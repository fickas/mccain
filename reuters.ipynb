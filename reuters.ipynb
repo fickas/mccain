{
  "nbformat": 4,
  "nbformat_minor": 0,
  "metadata": {
    "colab": {
      "name": "reuters.ipynb",
      "version": "0.3.2",
      "provenance": [],
      "collapsed_sections": [],
      "include_colab_link": true
    },
    "kernelspec": {
      "name": "python3",
      "display_name": "Python 3"
    }
  },
  "cells": [
    {
      "cell_type": "markdown",
      "metadata": {
        "id": "view-in-github",
        "colab_type": "text"
      },
      "source": [
        "[View in Colaboratory](https://colab.research.google.com/github/fickas/mccain/blob/master/reuters.ipynb)"
      ]
    },
    {
      "metadata": {
        "id": "PvthOGJCqyEF",
        "colab_type": "text"
      },
      "cell_type": "markdown",
      "source": [
        "NOTE COULD BE ALSO USED WITH SPOOKY (3 classes)"
      ]
    },
    {
      "metadata": {
        "id": "O0QEjMAGqvzw",
        "colab_type": "code",
        "colab": {
          "base_uri": "https://localhost:8080/",
          "height": 69
        },
        "outputId": "27a09b07-a24d-4cc5-dd94-04dd33f81d7f"
      },
      "cell_type": "code",
      "source": [
        "from keras.datasets import reuters\n",
        "\n",
        "(train_data, train_labels), (test_data, test_labels) = reuters.load_data(\n",
        "    num_words=10000)"
      ],
      "execution_count": 1,
      "outputs": [
        {
          "output_type": "stream",
          "text": [
            "Using TensorFlow backend.\n"
          ],
          "name": "stderr"
        },
        {
          "output_type": "stream",
          "text": [
            "Downloading data from https://s3.amazonaws.com/text-datasets/reuters.npz\n",
            "2113536/2110848 [==============================] - 0s 0us/step\n"
          ],
          "name": "stdout"
        }
      ]
    },
    {
      "metadata": {
        "id": "vV3hh7N6rLGf",
        "colab_type": "code",
        "colab": {
          "base_uri": "https://localhost:8080/",
          "height": 35
        },
        "outputId": "869a17bf-252a-4612-9eea-a1ea7dc0a229"
      },
      "cell_type": "code",
      "source": [
        "len(train_data)\n"
      ],
      "execution_count": 2,
      "outputs": [
        {
          "output_type": "execute_result",
          "data": {
            "text/plain": [
              "8982"
            ]
          },
          "metadata": {
            "tags": []
          },
          "execution_count": 2
        }
      ]
    },
    {
      "metadata": {
        "id": "g8x9v6AhrOtl",
        "colab_type": "code",
        "colab": {
          "base_uri": "https://localhost:8080/",
          "height": 35
        },
        "outputId": "6ab35e5e-a300-4de1-d445-f6e4f58a5e32"
      },
      "cell_type": "code",
      "source": [
        "len(test_data)"
      ],
      "execution_count": 3,
      "outputs": [
        {
          "output_type": "execute_result",
          "data": {
            "text/plain": [
              "2246"
            ]
          },
          "metadata": {
            "tags": []
          },
          "execution_count": 3
        }
      ]
    },
    {
      "metadata": {
        "id": "EB3AhzhDrauO",
        "colab_type": "code",
        "colab": {
          "base_uri": "https://localhost:8080/",
          "height": 89
        },
        "outputId": "86c0a2aa-e1b3-4f88-9f13-741f16e372df"
      },
      "cell_type": "code",
      "source": [
        "#convert from int rep back to english\n",
        "\n",
        "word_index = reuters.get_word_index()\n",
        "reverse_word_index = dict([(value, key) for (key, value) in word_index.items()])\n",
        "' '.join([reverse_word_index.get(i - 3, '?') for i in\n",
        "    train_data[0]])\n"
      ],
      "execution_count": 4,
      "outputs": [
        {
          "output_type": "stream",
          "text": [
            "Downloading data from https://s3.amazonaws.com/text-datasets/reuters_word_index.json\n",
            "557056/550378 [==============================] - 0s 0us/step\n"
          ],
          "name": "stdout"
        },
        {
          "output_type": "execute_result",
          "data": {
            "text/plain": [
              "'? ? ? said as a result of its december acquisition of space co it expects earnings per share in 1987 of 1 15 to 1 30 dlrs per share up from 70 cts in 1986 the company said pretax net should rise to nine to 10 mln dlrs from six mln dlrs in 1986 and rental operation revenues to 19 to 22 mln dlrs from 12 5 mln dlrs it said cash flow per share this year should be 2 50 to three dlrs reuter 3'"
            ]
          },
          "metadata": {
            "tags": []
          },
          "execution_count": 4
        }
      ]
    },
    {
      "metadata": {
        "id": "Rne1VyswruQE",
        "colab_type": "code",
        "colab": {}
      },
      "cell_type": "code",
      "source": [
        "import numpy as np\n",
        "\n",
        "def vectorize_sequences(sequences, dimension=10000):\n",
        "    results = np.zeros((len(sequences), dimension))\n",
        "    for i, sequence in enumerate(sequences):\n",
        "        results[i, sequence] = 1.\n",
        "    return results\n",
        "\n",
        "x_train = vectorize_sequences(train_data)\n",
        "x_test = vectorize_sequences(test_data)\n"
      ],
      "execution_count": 0,
      "outputs": []
    },
    {
      "metadata": {
        "id": "q1y3Y9l4rwsJ",
        "colab_type": "code",
        "colab": {}
      },
      "cell_type": "code",
      "source": [
        "'''\n",
        "def to_one_hot(labels, dimension=46):\n",
        "    results = np.zeros((len(labels), dimension))\n",
        "    for i, label in enumerate(labels):\n",
        "        results[i, label] = 1.\n",
        "    return results\n",
        "\n",
        "one_hot_train_labels = to_one_hot(train_labels)\n",
        "one_hot_test_labels = to_one_hot(test_labels)\n",
        "'''\n",
        "\n",
        "from keras.utils.np_utils import to_categorical\n",
        "\n",
        "one_hot_train_labels = to_categorical(train_labels)\n",
        "one_hot_test_labels = to_categorical(test_labels)\n",
        "\n"
      ],
      "execution_count": 0,
      "outputs": []
    },
    {
      "metadata": {
        "id": "bhIaw_2Gsc8T",
        "colab_type": "code",
        "colab": {}
      },
      "cell_type": "code",
      "source": [
        "#using 64 layers because larger output space\n",
        "\n",
        "from keras import models\n",
        "from keras import layers\n",
        "\n",
        "model = models.Sequential()\n",
        "model.add(layers.Dense(64, activation='relu', input_shape=(10000,)))\n",
        "model.add(layers.Dense(64, activation='relu'))\n",
        "model.add(layers.Dense(46, activation='softmax'))"
      ],
      "execution_count": 0,
      "outputs": []
    },
    {
      "metadata": {
        "id": "BS464l8msyuQ",
        "colab_type": "code",
        "colab": {}
      },
      "cell_type": "code",
      "source": [
        "model.compile(optimizer='rmsprop',\n",
        "              loss='categorical_crossentropy',\n",
        "              metrics=['accuracy'])"
      ],
      "execution_count": 0,
      "outputs": []
    },
    {
      "metadata": {
        "id": "2JwTyQ5Rs7nX",
        "colab_type": "code",
        "colab": {}
      },
      "cell_type": "code",
      "source": [
        "x_val = x_train[:1000]\n",
        "partial_x_train = x_train[1000:]\n",
        "\n",
        "y_val = one_hot_train_labels[:1000]\n",
        "partial_y_train = one_hot_train_labels[1000:]"
      ],
      "execution_count": 0,
      "outputs": []
    },
    {
      "metadata": {
        "id": "pfMB731rs99q",
        "colab_type": "code",
        "colab": {
          "base_uri": "https://localhost:8080/",
          "height": 728
        },
        "outputId": "26f048e1-aedd-4059-9c4f-97af2e35cb76"
      },
      "cell_type": "code",
      "source": [
        "history = model.fit(partial_x_train,\n",
        "                    partial_y_train,\n",
        "                    epochs=20,\n",
        "                    batch_size=512,\n",
        "                    validation_data=(x_val, y_val))"
      ],
      "execution_count": 10,
      "outputs": [
        {
          "output_type": "stream",
          "text": [
            "Train on 7982 samples, validate on 1000 samples\n",
            "Epoch 1/20\n",
            "7982/7982 [==============================] - 2s 249us/step - loss: 2.5314 - acc: 0.4950 - val_loss: 1.7243 - val_acc: 0.6100\n",
            "Epoch 2/20\n",
            "7982/7982 [==============================] - 1s 159us/step - loss: 1.4491 - acc: 0.6872 - val_loss: 1.3500 - val_acc: 0.7070\n",
            "Epoch 3/20\n",
            "7982/7982 [==============================] - 1s 154us/step - loss: 1.1001 - acc: 0.7637 - val_loss: 1.1746 - val_acc: 0.7420\n",
            "Epoch 4/20\n",
            "7982/7982 [==============================] - 1s 147us/step - loss: 0.8730 - acc: 0.8145 - val_loss: 1.0805 - val_acc: 0.7600\n",
            "Epoch 5/20\n",
            "7982/7982 [==============================] - 1s 147us/step - loss: 0.7060 - acc: 0.8478 - val_loss: 0.9860 - val_acc: 0.7800\n",
            "Epoch 6/20\n",
            "7982/7982 [==============================] - 1s 145us/step - loss: 0.5694 - acc: 0.8797 - val_loss: 0.9411 - val_acc: 0.8050\n",
            "Epoch 7/20\n",
            "7982/7982 [==============================] - 1s 146us/step - loss: 0.4621 - acc: 0.9024 - val_loss: 0.9089 - val_acc: 0.8010\n",
            "Epoch 8/20\n",
            "7982/7982 [==============================] - 1s 154us/step - loss: 0.3732 - acc: 0.9218 - val_loss: 0.9368 - val_acc: 0.7900\n",
            "Epoch 9/20\n",
            "7982/7982 [==============================] - 1s 153us/step - loss: 0.3060 - acc: 0.9303 - val_loss: 0.8931 - val_acc: 0.8060\n",
            "Epoch 10/20\n",
            "7982/7982 [==============================] - 1s 150us/step - loss: 0.2556 - acc: 0.9415 - val_loss: 0.9071 - val_acc: 0.8130\n",
            "Epoch 11/20\n",
            "7982/7982 [==============================] - 1s 150us/step - loss: 0.2197 - acc: 0.9474 - val_loss: 0.9186 - val_acc: 0.8090\n",
            "Epoch 12/20\n",
            "7982/7982 [==============================] - 1s 152us/step - loss: 0.1882 - acc: 0.9505 - val_loss: 0.9049 - val_acc: 0.8170\n",
            "Epoch 13/20\n",
            "7982/7982 [==============================] - 1s 151us/step - loss: 0.1707 - acc: 0.9521 - val_loss: 0.9356 - val_acc: 0.8110\n",
            "Epoch 14/20\n",
            "7982/7982 [==============================] - 1s 152us/step - loss: 0.1540 - acc: 0.9554 - val_loss: 0.9673 - val_acc: 0.8050\n",
            "Epoch 15/20\n",
            "7982/7982 [==============================] - 1s 152us/step - loss: 0.1393 - acc: 0.9558 - val_loss: 0.9725 - val_acc: 0.8160\n",
            "Epoch 16/20\n",
            "7982/7982 [==============================] - 1s 150us/step - loss: 0.1317 - acc: 0.9555 - val_loss: 1.0263 - val_acc: 0.8030\n",
            "Epoch 17/20\n",
            "7982/7982 [==============================] - 1s 149us/step - loss: 0.1217 - acc: 0.9578 - val_loss: 1.0280 - val_acc: 0.7950\n",
            "Epoch 18/20\n",
            "7982/7982 [==============================] - 1s 146us/step - loss: 0.1201 - acc: 0.9575 - val_loss: 1.0454 - val_acc: 0.8080\n",
            "Epoch 19/20\n",
            "7982/7982 [==============================] - 1s 150us/step - loss: 0.1139 - acc: 0.9595 - val_loss: 1.1012 - val_acc: 0.7970\n",
            "Epoch 20/20\n",
            "7982/7982 [==============================] - 1s 147us/step - loss: 0.1110 - acc: 0.9594 - val_loss: 1.0737 - val_acc: 0.8020\n"
          ],
          "name": "stdout"
        }
      ]
    },
    {
      "metadata": {
        "id": "v1hfFKuTtMos",
        "colab_type": "code",
        "colab": {
          "base_uri": "https://localhost:8080/",
          "height": 377
        },
        "outputId": "440ea035-4c4a-4a84-d79c-f586fe70ef51"
      },
      "cell_type": "code",
      "source": [
        "import matplotlib.pyplot as plt\n",
        "\n",
        "loss = history.history['loss']\n",
        "val_loss = history.history['val_loss']\n",
        "\n",
        "epochs = range(1, len(loss) + 1)\n",
        "\n",
        "plt.plot(epochs, loss, 'bo', label='Training loss')\n",
        "plt.plot(epochs, val_loss, 'b', label='Validation loss')\n",
        "plt.title('Training and validation loss')\n",
        "plt.xlabel('Epochs')\n",
        "plt.ylabel('Loss')\n",
        "plt.legend()\n",
        "\n",
        "plt.show()"
      ],
      "execution_count": 11,
      "outputs": [
        {
          "output_type": "display_data",
          "data": {
            "image/png": "[encoded data removed]",
            "text/plain": [
              "<matplotlib.figure.Figure at 0x7f0b52c216d8>"
            ]
          },
          "metadata": {
            "tags": []
          }
        }
      ]
    },
    {
      "metadata": {
        "id": "w4hWB2vmtTKx",
        "colab_type": "code",
        "colab": {
          "base_uri": "https://localhost:8080/",
          "height": 377
        },
        "outputId": "def4cad3-0f54-4a12-9a84-d0b16c6dcf56"
      },
      "cell_type": "code",
      "source": [
        "plt.clf()\n",
        "\n",
        "acc = history.history['acc']\n",
        "val_acc = history.history['val_acc']\n",
        "\n",
        "plt.plot(epochs, acc, 'bo', label='Training acc')\n",
        "plt.plot(epochs, val_acc, 'b', label='Validation acc')\n",
        "plt.title('Training and validation accuracy')\n",
        "plt.xlabel('Epochs')\n",
        "plt.ylabel('Loss')\n",
        "plt.legend()\n",
        "\n",
        "plt.show()\n"
      ],
      "execution_count": 12,
      "outputs": [
        {
          "output_type": "display_data",
          "data": {
            "image/png": "[encoded data removed]",
            "text/plain": [
              "<matplotlib.figure.Figure at 0x7f0b34421ac8>"
            ]
          },
          "metadata": {
            "tags": []
          }
        }
      ]
    },
    {
      "metadata": {
        "id": "FmKeRYf8tdeK",
        "colab_type": "text"
      },
      "cell_type": "markdown",
      "source": [
        "TRY WITH ONLY 9 EPOCHS"
      ]
    },
    {
      "metadata": {
        "id": "uwVlcIR8tkta",
        "colab_type": "code",
        "colab": {
          "base_uri": "https://localhost:8080/",
          "height": 364
        },
        "outputId": "c9ceb024-f3ec-48c6-ae54-a3db5a28bb73"
      },
      "cell_type": "code",
      "source": [
        "model = models.Sequential()\n",
        "model.add(layers.Dense(64, activation='relu', input_shape=(10000,)))\n",
        "model.add(layers.Dense(64, activation='relu'))\n",
        "model.add(layers.Dense(46, activation='softmax'))\n",
        "\n",
        "model.compile(optimizer='rmsprop',\n",
        "              loss='categorical_crossentropy',\n",
        "              metrics=['accuracy'])\n",
        "model.fit(partial_x_train,\n",
        "          partial_y_train,\n",
        "          epochs=9,\n",
        "          batch_size=512,\n",
        "          validation_data=(x_val, y_val))\n",
        "results = model.evaluate(x_test, one_hot_test_labels)"
      ],
      "execution_count": 15,
      "outputs": [
        {
          "output_type": "stream",
          "text": [
            "Train on 7982 samples, validate on 1000 samples\n",
            "Epoch 1/9\n",
            "7982/7982 [==============================] - 1s 185us/step - loss: 2.6146 - acc: 0.4629 - val_loss: 1.7337 - val_acc: 0.6360\n",
            "Epoch 2/9\n",
            "7982/7982 [==============================] - 1s 163us/step - loss: 1.4106 - acc: 0.7071 - val_loss: 1.2782 - val_acc: 0.7310\n",
            "Epoch 3/9\n",
            "7982/7982 [==============================] - 1s 158us/step - loss: 1.0452 - acc: 0.7785 - val_loss: 1.1047 - val_acc: 0.7640\n",
            "Epoch 4/9\n",
            "7982/7982 [==============================] - 1s 158us/step - loss: 0.8189 - acc: 0.8311 - val_loss: 1.0273 - val_acc: 0.7850\n",
            "Epoch 5/9\n",
            "7982/7982 [==============================] - 1s 158us/step - loss: 0.6511 - acc: 0.8631 - val_loss: 0.9533 - val_acc: 0.8040\n",
            "Epoch 6/9\n",
            "7982/7982 [==============================] - 1s 157us/step - loss: 0.5299 - acc: 0.8905 - val_loss: 0.9212 - val_acc: 0.8090\n",
            "Epoch 7/9\n",
            "7982/7982 [==============================] - 1s 157us/step - loss: 0.4214 - acc: 0.9112 - val_loss: 0.9029 - val_acc: 0.8130\n",
            "Epoch 8/9\n",
            "7982/7982 [==============================] - 1s 151us/step - loss: 0.3493 - acc: 0.9255 - val_loss: 0.8909 - val_acc: 0.8170\n",
            "Epoch 9/9\n",
            "7982/7982 [==============================] - 1s 147us/step - loss: 0.2869 - acc: 0.9352 - val_loss: 0.8846 - val_acc: 0.8200\n",
            "2246/2246 [==============================] - 0s 121us/step\n"
          ],
          "name": "stdout"
        }
      ]
    },
    {
      "metadata": {
        "id": "Jiw2wf-Ptrt2",
        "colab_type": "code",
        "colab": {
          "base_uri": "https://localhost:8080/",
          "height": 35
        },
        "outputId": "27c3d1e3-0a39-4a37-a037-fb0a686cf6f1"
      },
      "cell_type": "code",
      "source": [
        "results"
      ],
      "execution_count": 16,
      "outputs": [
        {
          "output_type": "execute_result",
          "data": {
            "text/plain": [
              "[0.9825872317659781, 0.786731967996086]"
            ]
          },
          "metadata": {
            "tags": []
          },
          "execution_count": 16
        }
      ]
    },
    {
      "metadata": {
        "id": "GVHjELF0t59g",
        "colab_type": "code",
        "colab": {
          "base_uri": "https://localhost:8080/",
          "height": 225
        },
        "outputId": "d984e94f-d1e2-4127-ec59-c53cc106ac00"
      },
      "cell_type": "code",
      "source": [
        "predictions = model.predict(x_test)\n",
        "\n",
        "predictions[0] #probs for first sample - choose highest prob"
      ],
      "execution_count": 17,
      "outputs": [
        {
          "output_type": "execute_result",
          "data": {
            "text/plain": [
              "array([9.3059774e-05, 4.6292622e-05, 8.9517371e-06, 8.8602346e-01,\n",
              "       7.2327591e-02, 3.5667499e-06, 5.1805640e-05, 4.4060773e-05,\n",
              "       3.2801084e-02, 1.1277084e-04, 2.0543020e-04, 7.1632408e-04,\n",
              "       1.8850526e-04, 9.2051842e-04, 2.8858459e-04, 1.4397030e-04,\n",
              "       2.6968881e-04, 1.6199061e-04, 1.6510678e-05, 1.1648440e-03,\n",
              "       8.8625116e-04, 3.6724596e-04, 1.3905002e-05, 6.4119296e-05,\n",
              "       1.4720291e-05, 1.4983740e-04, 4.5663979e-05, 3.0066069e-05,\n",
              "       4.0630308e-05, 6.2663072e-05, 8.2125975e-05, 5.3255859e-05,\n",
              "       3.6132053e-04, 3.3016472e-06, 2.4898956e-04, 1.9880599e-06,\n",
              "       1.2853342e-03, 2.4449721e-05, 1.9752959e-04, 2.9605432e-04,\n",
              "       5.7219830e-05, 9.3154822e-06, 5.5827181e-06, 7.6447104e-05,\n",
              "       2.9720011e-05, 3.2422463e-06], dtype=float32)"
            ]
          },
          "metadata": {
            "tags": []
          },
          "execution_count": 17
        }
      ]
    }
  ]
}