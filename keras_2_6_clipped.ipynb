{
  "nbformat": 4,
  "nbformat_minor": 0,
  "metadata": {
    "colab": {
      "name": "keras_2_6_clipped.ipynb",
      "version": "0.3.2",
      "provenance": [],
      "collapsed_sections": [],
      "include_colab_link": true
    },
    "kernelspec": {
      "name": "python3",
      "display_name": "Python 3"
    }
  },
  "cells": [
    {
      "cell_type": "markdown",
      "metadata": {
        "id": "view-in-github",
        "colab_type": "text"
      },
      "source": [
        "[View in Colaboratory](https://colab.research.google.com/github/fickas/mccain/blob/master/keras_2_6_clipped.ipynb)"
      ]
    },
    {
      "metadata": {
        "id": "fK7OB-kT8SJB",
        "colab_type": "text"
      },
      "cell_type": "markdown",
      "source": [
        "# clipped means clipped duration to 51. max should be 50 once call is placed.\n",
        "\n",
        "\n"
      ]
    },
    {
      "metadata": {
        "id": "V7sFXFIL5FP8",
        "colab_type": "text"
      },
      "cell_type": "markdown",
      "source": [
        "<ul>\n",
        "<li>Regression is done using different loss functions than what we used for classification. Mean squared error (MSE) is a loss function commonly used for regression.\n",
        "<li>Similarly, evaluation metrics to be used for regression differ from those used for classification; naturally, the concept of accuracy doesn’t apply for regression. A common regression metric is mean absolute error (MAE).\n",
        "<li>When features in the input data have values in different ranges, each feature should be scaled independently as a preprocessing step.\n",
        "<li>When there is little data available, using K-fold validation is a great way to reliably evaluate a model.\n",
        "<li>When little training data is available, it’s preferable to use a small network with few hidden layers (typically only one or two), in order to avoid severe overfitting.\n",
        "  </ul>\n",
        "\n",
        "\n"
      ]
    },
    {
      "metadata": {
        "id": "VqZwqR63GKIR",
        "colab_type": "code",
        "colab": {
          "base_uri": "https://localhost:8080/",
          "height": 17
        },
        "outputId": "cf90ddf0-44d8-4ffd-9b4a-c46a62d3172f"
      },
      "cell_type": "code",
      "source": [
        "%%html\n",
        "<style>\n",
        ".h1_cell, .just_text {\n",
        "    box-sizing: border-box;\n",
        "    padding-top:5px;\n",
        "    padding-bottom:5px;\n",
        "    font-family: \"Times New Roman\", Georgia, Serif;\n",
        "    font-size: 125%;\n",
        "    line-height: 22px; /* 5px +12px + 5px */\n",
        "    text-indent: 25px;\n",
        "    background-color: #fbfbea;\n",
        "    padding: 10px;\n",
        "}\n",
        "\n",
        "hr { \n",
        "    display: block;\n",
        "    margin-top: 0.5em;\n",
        "    margin-bottom: 0.5em;\n",
        "    margin-left: auto;\n",
        "    margin-right: auto;\n",
        "    border-style: inset;\n",
        "    border-width: 2px;\n",
        "}\n",
        "</style>"
      ],
      "execution_count": 55,
      "outputs": [
        {
          "output_type": "display_data",
          "data": {
            "text/html": [
              "<style>\n",
              ".h1_cell, .just_text {\n",
              "    box-sizing: border-box;\n",
              "    padding-top:5px;\n",
              "    padding-bottom:5px;\n",
              "    font-family: \"Times New Roman\", Georgia, Serif;\n",
              "    font-size: 125%;\n",
              "    line-height: 22px; /* 5px +12px + 5px */\n",
              "    text-indent: 25px;\n",
              "    background-color: #fbfbea;\n",
              "    padding: 10px;\n",
              "}\n",
              "\n",
              "hr { \n",
              "    display: block;\n",
              "    margin-top: 0.5em;\n",
              "    margin-bottom: 0.5em;\n",
              "    margin-left: auto;\n",
              "    margin-right: auto;\n",
              "    border-style: inset;\n",
              "    border-width: 2px;\n",
              "}\n",
              "</style>"
            ],
            "text/plain": [
              "<IPython.core.display.HTML object>"
            ]
          },
          "metadata": {
            "tags": []
          }
        }
      ]
    },
    {
      "metadata": {
        "id": "z_uHfqz3GWEV",
        "colab_type": "text"
      },
      "cell_type": "markdown",
      "source": [
        "<h1>\n",
        "<font color=\"blue\">My comments in blue</font>\n",
        "</h1>\n",
        "<div class=h1_cell>\n",
        "<p>\n",
        "I rewrote major portions of your code to make it simpler and run faster. See my comments with blue font and yellow background on text.\n",
        "<p>\n",
        "Maybe first thing to note is that I switched from 3.6 to 2.7. This is not a criticism of you using 3.6. We did not specify what version to use.\n",
        "</div>\n",
        "<hr>"
      ]
    },
    {
      "metadata": {
        "id": "yfTrAA_m9ege",
        "colab_type": "code",
        "colab": {}
      },
      "cell_type": "code",
      "source": [
        "#get data\n",
        "\n",
        "import pandas as pd"
      ],
      "execution_count": 0,
      "outputs": []
    },
    {
      "metadata": {
        "id": "WONIfRzL91-c",
        "colab_type": "code",
        "colab": {}
      },
      "cell_type": "code",
      "source": [
        "df_26 = pd.read_csv('https://www.dropbox.com/s/380v7h7v9547dbe/df_26.csv?raw=1')"
      ],
      "execution_count": 0,
      "outputs": []
    },
    {
      "metadata": {
        "id": "Gz_fKh4u-HyV",
        "colab_type": "code",
        "colab": {
          "base_uri": "https://localhost:8080/",
          "height": 202
        },
        "outputId": "8c2b1e7f-1519-49b9-acef-72bb035f1e7e"
      },
      "cell_type": "code",
      "source": [
        "df_26.head()"
      ],
      "execution_count": 4,
      "outputs": [
        {
          "output_type": "execute_result",
          "data": {
            "text/html": [
              "<div>\n",
              "<style scoped>\n",
              "    .dataframe tbody tr th:only-of-type {\n",
              "        vertical-align: middle;\n",
              "    }\n",
              "\n",
              "    .dataframe tbody tr th {\n",
              "        vertical-align: top;\n",
              "    }\n",
              "\n",
              "    .dataframe thead th {\n",
              "        text-align: right;\n",
              "    }\n",
              "</style>\n",
              "<table border=\"1\" class=\"dataframe\">\n",
              "  <thead>\n",
              "    <tr style=\"text-align: right;\">\n",
              "      <th></th>\n",
              "      <th>month</th>\n",
              "      <th>day</th>\n",
              "      <th>dow</th>\n",
              "      <th>hour</th>\n",
              "      <th>minute</th>\n",
              "      <th>second</th>\n",
              "      <th>this_duration</th>\n",
              "      <th>last_phase</th>\n",
              "      <th>last_26_duration</th>\n",
              "    </tr>\n",
              "  </thead>\n",
              "  <tbody>\n",
              "    <tr>\n",
              "      <th>0</th>\n",
              "      <td>7.0</td>\n",
              "      <td>19.0</td>\n",
              "      <td>3.0</td>\n",
              "      <td>14.0</td>\n",
              "      <td>35.0</td>\n",
              "      <td>29.0</td>\n",
              "      <td>15.0</td>\n",
              "      <td>2.0</td>\n",
              "      <td>NaN</td>\n",
              "    </tr>\n",
              "    <tr>\n",
              "      <th>1</th>\n",
              "      <td>7.0</td>\n",
              "      <td>19.0</td>\n",
              "      <td>3.0</td>\n",
              "      <td>14.0</td>\n",
              "      <td>36.0</td>\n",
              "      <td>4.0</td>\n",
              "      <td>22.0</td>\n",
              "      <td>3.0</td>\n",
              "      <td>15.0</td>\n",
              "    </tr>\n",
              "    <tr>\n",
              "      <th>2</th>\n",
              "      <td>7.0</td>\n",
              "      <td>19.0</td>\n",
              "      <td>3.0</td>\n",
              "      <td>14.0</td>\n",
              "      <td>37.0</td>\n",
              "      <td>3.0</td>\n",
              "      <td>13.0</td>\n",
              "      <td>5.0</td>\n",
              "      <td>22.0</td>\n",
              "    </tr>\n",
              "    <tr>\n",
              "      <th>3</th>\n",
              "      <td>7.0</td>\n",
              "      <td>19.0</td>\n",
              "      <td>3.0</td>\n",
              "      <td>14.0</td>\n",
              "      <td>37.0</td>\n",
              "      <td>32.0</td>\n",
              "      <td>10.0</td>\n",
              "      <td>2.0</td>\n",
              "      <td>13.0</td>\n",
              "    </tr>\n",
              "    <tr>\n",
              "      <th>4</th>\n",
              "      <td>7.0</td>\n",
              "      <td>19.0</td>\n",
              "      <td>3.0</td>\n",
              "      <td>14.0</td>\n",
              "      <td>37.0</td>\n",
              "      <td>56.0</td>\n",
              "      <td>17.0</td>\n",
              "      <td>1.0</td>\n",
              "      <td>10.0</td>\n",
              "    </tr>\n",
              "  </tbody>\n",
              "</table>\n",
              "</div>"
            ],
            "text/plain": [
              "   month   day  dow  hour  minute  second  this_duration  last_phase  \\\n",
              "0    7.0  19.0  3.0  14.0    35.0    29.0           15.0         2.0   \n",
              "1    7.0  19.0  3.0  14.0    36.0     4.0           22.0         3.0   \n",
              "2    7.0  19.0  3.0  14.0    37.0     3.0           13.0         5.0   \n",
              "3    7.0  19.0  3.0  14.0    37.0    32.0           10.0         2.0   \n",
              "4    7.0  19.0  3.0  14.0    37.0    56.0           17.0         1.0   \n",
              "\n",
              "   last_26_duration  \n",
              "0               NaN  \n",
              "1              15.0  \n",
              "2              22.0  \n",
              "3              13.0  \n",
              "4              10.0  "
            ]
          },
          "metadata": {
            "tags": []
          },
          "execution_count": 4
        }
      ]
    },
    {
      "metadata": {
        "id": "DYQ7M4Ce-O_2",
        "colab_type": "code",
        "colab": {
          "base_uri": "https://localhost:8080/",
          "height": 202
        },
        "outputId": "f3550963-60e4-4052-fc58-c2c1063f704a"
      },
      "cell_type": "code",
      "source": [
        "df_26 = df_26[1:]\n",
        "df_26.head()"
      ],
      "execution_count": 5,
      "outputs": [
        {
          "output_type": "execute_result",
          "data": {
            "text/html": [
              "<div>\n",
              "<style scoped>\n",
              "    .dataframe tbody tr th:only-of-type {\n",
              "        vertical-align: middle;\n",
              "    }\n",
              "\n",
              "    .dataframe tbody tr th {\n",
              "        vertical-align: top;\n",
              "    }\n",
              "\n",
              "    .dataframe thead th {\n",
              "        text-align: right;\n",
              "    }\n",
              "</style>\n",
              "<table border=\"1\" class=\"dataframe\">\n",
              "  <thead>\n",
              "    <tr style=\"text-align: right;\">\n",
              "      <th></th>\n",
              "      <th>month</th>\n",
              "      <th>day</th>\n",
              "      <th>dow</th>\n",
              "      <th>hour</th>\n",
              "      <th>minute</th>\n",
              "      <th>second</th>\n",
              "      <th>this_duration</th>\n",
              "      <th>last_phase</th>\n",
              "      <th>last_26_duration</th>\n",
              "    </tr>\n",
              "  </thead>\n",
              "  <tbody>\n",
              "    <tr>\n",
              "      <th>1</th>\n",
              "      <td>7.0</td>\n",
              "      <td>19.0</td>\n",
              "      <td>3.0</td>\n",
              "      <td>14.0</td>\n",
              "      <td>36.0</td>\n",
              "      <td>4.0</td>\n",
              "      <td>22.0</td>\n",
              "      <td>3.0</td>\n",
              "      <td>15.0</td>\n",
              "    </tr>\n",
              "    <tr>\n",
              "      <th>2</th>\n",
              "      <td>7.0</td>\n",
              "      <td>19.0</td>\n",
              "      <td>3.0</td>\n",
              "      <td>14.0</td>\n",
              "      <td>37.0</td>\n",
              "      <td>3.0</td>\n",
              "      <td>13.0</td>\n",
              "      <td>5.0</td>\n",
              "      <td>22.0</td>\n",
              "    </tr>\n",
              "    <tr>\n",
              "      <th>3</th>\n",
              "      <td>7.0</td>\n",
              "      <td>19.0</td>\n",
              "      <td>3.0</td>\n",
              "      <td>14.0</td>\n",
              "      <td>37.0</td>\n",
              "      <td>32.0</td>\n",
              "      <td>10.0</td>\n",
              "      <td>2.0</td>\n",
              "      <td>13.0</td>\n",
              "    </tr>\n",
              "    <tr>\n",
              "      <th>4</th>\n",
              "      <td>7.0</td>\n",
              "      <td>19.0</td>\n",
              "      <td>3.0</td>\n",
              "      <td>14.0</td>\n",
              "      <td>37.0</td>\n",
              "      <td>56.0</td>\n",
              "      <td>17.0</td>\n",
              "      <td>1.0</td>\n",
              "      <td>10.0</td>\n",
              "    </tr>\n",
              "    <tr>\n",
              "      <th>5</th>\n",
              "      <td>7.0</td>\n",
              "      <td>19.0</td>\n",
              "      <td>3.0</td>\n",
              "      <td>14.0</td>\n",
              "      <td>38.0</td>\n",
              "      <td>26.0</td>\n",
              "      <td>13.0</td>\n",
              "      <td>2.0</td>\n",
              "      <td>17.0</td>\n",
              "    </tr>\n",
              "  </tbody>\n",
              "</table>\n",
              "</div>"
            ],
            "text/plain": [
              "   month   day  dow  hour  minute  second  this_duration  last_phase  \\\n",
              "1    7.0  19.0  3.0  14.0    36.0     4.0           22.0         3.0   \n",
              "2    7.0  19.0  3.0  14.0    37.0     3.0           13.0         5.0   \n",
              "3    7.0  19.0  3.0  14.0    37.0    32.0           10.0         2.0   \n",
              "4    7.0  19.0  3.0  14.0    37.0    56.0           17.0         1.0   \n",
              "5    7.0  19.0  3.0  14.0    38.0    26.0           13.0         2.0   \n",
              "\n",
              "   last_26_duration  \n",
              "1              15.0  \n",
              "2              22.0  \n",
              "3              13.0  \n",
              "4              10.0  \n",
              "5              17.0  "
            ]
          },
          "metadata": {
            "tags": []
          },
          "execution_count": 5
        }
      ]
    },
    {
      "metadata": {
        "id": "wr6DJbLS-h9o",
        "colab_type": "code",
        "colab": {
          "base_uri": "https://localhost:8080/",
          "height": 294
        },
        "outputId": "ecb4848d-b3dd-4392-9dcf-040aa654d7d4"
      },
      "cell_type": "code",
      "source": [
        "df_26.describe()"
      ],
      "execution_count": 6,
      "outputs": [
        {
          "output_type": "execute_result",
          "data": {
            "text/html": [
              "<div>\n",
              "<style scoped>\n",
              "    .dataframe tbody tr th:only-of-type {\n",
              "        vertical-align: middle;\n",
              "    }\n",
              "\n",
              "    .dataframe tbody tr th {\n",
              "        vertical-align: top;\n",
              "    }\n",
              "\n",
              "    .dataframe thead th {\n",
              "        text-align: right;\n",
              "    }\n",
              "</style>\n",
              "<table border=\"1\" class=\"dataframe\">\n",
              "  <thead>\n",
              "    <tr style=\"text-align: right;\">\n",
              "      <th></th>\n",
              "      <th>month</th>\n",
              "      <th>day</th>\n",
              "      <th>dow</th>\n",
              "      <th>hour</th>\n",
              "      <th>minute</th>\n",
              "      <th>second</th>\n",
              "      <th>this_duration</th>\n",
              "      <th>last_phase</th>\n",
              "      <th>last_26_duration</th>\n",
              "    </tr>\n",
              "  </thead>\n",
              "  <tbody>\n",
              "    <tr>\n",
              "      <th>count</th>\n",
              "      <td>777.0</td>\n",
              "      <td>777.000000</td>\n",
              "      <td>777.000000</td>\n",
              "      <td>777.000000</td>\n",
              "      <td>777.000000</td>\n",
              "      <td>777.000000</td>\n",
              "      <td>777.000000</td>\n",
              "      <td>777.000000</td>\n",
              "      <td>777.000000</td>\n",
              "    </tr>\n",
              "    <tr>\n",
              "      <th>mean</th>\n",
              "      <td>7.0</td>\n",
              "      <td>19.813385</td>\n",
              "      <td>3.813385</td>\n",
              "      <td>14.182754</td>\n",
              "      <td>29.467181</td>\n",
              "      <td>29.039897</td>\n",
              "      <td>107.207207</td>\n",
              "      <td>2.759331</td>\n",
              "      <td>107.207207</td>\n",
              "    </tr>\n",
              "    <tr>\n",
              "      <th>std</th>\n",
              "      <td>0.0</td>\n",
              "      <td>0.615459</td>\n",
              "      <td>0.615459</td>\n",
              "      <td>2.089508</td>\n",
              "      <td>17.466367</td>\n",
              "      <td>17.243024</td>\n",
              "      <td>1439.550494</td>\n",
              "      <td>1.477492</td>\n",
              "      <td>1439.550494</td>\n",
              "    </tr>\n",
              "    <tr>\n",
              "      <th>min</th>\n",
              "      <td>7.0</td>\n",
              "      <td>19.000000</td>\n",
              "      <td>3.000000</td>\n",
              "      <td>10.000000</td>\n",
              "      <td>0.000000</td>\n",
              "      <td>0.000000</td>\n",
              "      <td>6.000000</td>\n",
              "      <td>0.000000</td>\n",
              "      <td>6.000000</td>\n",
              "    </tr>\n",
              "    <tr>\n",
              "      <th>25%</th>\n",
              "      <td>7.0</td>\n",
              "      <td>19.000000</td>\n",
              "      <td>3.000000</td>\n",
              "      <td>13.000000</td>\n",
              "      <td>15.000000</td>\n",
              "      <td>15.000000</td>\n",
              "      <td>13.000000</td>\n",
              "      <td>2.000000</td>\n",
              "      <td>13.000000</td>\n",
              "    </tr>\n",
              "    <tr>\n",
              "      <th>50%</th>\n",
              "      <td>7.0</td>\n",
              "      <td>20.000000</td>\n",
              "      <td>4.000000</td>\n",
              "      <td>15.000000</td>\n",
              "      <td>29.000000</td>\n",
              "      <td>28.000000</td>\n",
              "      <td>21.000000</td>\n",
              "      <td>2.000000</td>\n",
              "      <td>21.000000</td>\n",
              "    </tr>\n",
              "    <tr>\n",
              "      <th>75%</th>\n",
              "      <td>7.0</td>\n",
              "      <td>20.000000</td>\n",
              "      <td>4.000000</td>\n",
              "      <td>16.000000</td>\n",
              "      <td>45.000000</td>\n",
              "      <td>44.000000</td>\n",
              "      <td>29.000000</td>\n",
              "      <td>5.000000</td>\n",
              "      <td>29.000000</td>\n",
              "    </tr>\n",
              "    <tr>\n",
              "      <th>max</th>\n",
              "      <td>7.0</td>\n",
              "      <td>21.000000</td>\n",
              "      <td>5.000000</td>\n",
              "      <td>23.000000</td>\n",
              "      <td>59.000000</td>\n",
              "      <td>59.000000</td>\n",
              "      <td>39119.000000</td>\n",
              "      <td>5.000000</td>\n",
              "      <td>39119.000000</td>\n",
              "    </tr>\n",
              "  </tbody>\n",
              "</table>\n",
              "</div>"
            ],
            "text/plain": [
              "       month         day         dow        hour      minute      second  \\\n",
              "count  777.0  777.000000  777.000000  777.000000  777.000000  777.000000   \n",
              "mean     7.0   19.813385    3.813385   14.182754   29.467181   29.039897   \n",
              "std      0.0    0.615459    0.615459    2.089508   17.466367   17.243024   \n",
              "min      7.0   19.000000    3.000000   10.000000    0.000000    0.000000   \n",
              "25%      7.0   19.000000    3.000000   13.000000   15.000000   15.000000   \n",
              "50%      7.0   20.000000    4.000000   15.000000   29.000000   28.000000   \n",
              "75%      7.0   20.000000    4.000000   16.000000   45.000000   44.000000   \n",
              "max      7.0   21.000000    5.000000   23.000000   59.000000   59.000000   \n",
              "\n",
              "       this_duration  last_phase  last_26_duration  \n",
              "count     777.000000  777.000000        777.000000  \n",
              "mean      107.207207    2.759331        107.207207  \n",
              "std      1439.550494    1.477492       1439.550494  \n",
              "min         6.000000    0.000000          6.000000  \n",
              "25%        13.000000    2.000000         13.000000  \n",
              "50%        21.000000    2.000000         21.000000  \n",
              "75%        29.000000    5.000000         29.000000  \n",
              "max     39119.000000    5.000000      39119.000000  "
            ]
          },
          "metadata": {
            "tags": []
          },
          "execution_count": 6
        }
      ]
    },
    {
      "metadata": {
        "id": "jDnJmMmIJs82",
        "colab_type": "code",
        "colab": {}
      },
      "cell_type": "code",
      "source": [
        "#month is constant (std is 0). Drop it.\n",
        "\n",
        "df_26 = df_26.drop('month', axis=1)"
      ],
      "execution_count": 0,
      "outputs": []
    },
    {
      "metadata": {
        "id": "BB6Lr0aVnMr6",
        "colab_type": "code",
        "colab": {}
      },
      "cell_type": "code",
      "source": [
        "#clip duration at 51. Reason is that 50 is longest it will be active *given* a call from other phase.\n",
        "\n",
        "df_26['this_duration'][df_26['this_duration'] >= 51.] = 51.\n",
        "df_26['last_26_duration'][df_26['last_26_duration'] >= 51.] = 51.  #this means need to rebuild input data"
      ],
      "execution_count": 0,
      "outputs": []
    },
    {
      "metadata": {
        "id": "rt_V29kfEE6K",
        "colab_type": "code",
        "colab": {}
      },
      "cell_type": "code",
      "source": [
        "df_train = df_26[:600]\n",
        "df_test = df_26[600:]"
      ],
      "execution_count": 0,
      "outputs": []
    },
    {
      "metadata": {
        "id": "1ZjcGe--Eky_",
        "colab_type": "code",
        "colab": {}
      },
      "cell_type": "code",
      "source": [
        "train_target = df_train['this_duration'].values"
      ],
      "execution_count": 0,
      "outputs": []
    },
    {
      "metadata": {
        "id": "xImK3FMNFTQP",
        "colab_type": "code",
        "colab": {
          "base_uri": "https://localhost:8080/",
          "height": 35
        },
        "outputId": "d2bc5982-d306-4530-d89d-379ce628690c"
      },
      "cell_type": "code",
      "source": [
        "train_target.shape"
      ],
      "execution_count": 11,
      "outputs": [
        {
          "output_type": "execute_result",
          "data": {
            "text/plain": [
              "(600,)"
            ]
          },
          "metadata": {
            "tags": []
          },
          "execution_count": 11
        }
      ]
    },
    {
      "metadata": {
        "id": "KEgaISx2Fb3A",
        "colab_type": "code",
        "colab": {}
      },
      "cell_type": "code",
      "source": [
        "df_train = df_train.drop('this_duration', axis=1)"
      ],
      "execution_count": 0,
      "outputs": []
    },
    {
      "metadata": {
        "id": "yLVOJ7YWFu-h",
        "colab_type": "code",
        "colab": {}
      },
      "cell_type": "code",
      "source": [
        "train_input = df_train.values"
      ],
      "execution_count": 0,
      "outputs": []
    },
    {
      "metadata": {
        "id": "3JA-8aA3F8IB",
        "colab_type": "code",
        "colab": {
          "base_uri": "https://localhost:8080/",
          "height": 35
        },
        "outputId": "d1d9fe6a-8d0b-4f54-a929-4346af134d9b"
      },
      "cell_type": "code",
      "source": [
        "train_input.shape"
      ],
      "execution_count": 14,
      "outputs": [
        {
          "output_type": "execute_result",
          "data": {
            "text/plain": [
              "(600, 7)"
            ]
          },
          "metadata": {
            "tags": []
          },
          "execution_count": 14
        }
      ]
    },
    {
      "metadata": {
        "id": "W2aqX8K8GMdo",
        "colab_type": "code",
        "colab": {}
      },
      "cell_type": "code",
      "source": [
        "test_target = df_test['this_duration'].values"
      ],
      "execution_count": 0,
      "outputs": []
    },
    {
      "metadata": {
        "id": "4tNRqd5iGY4j",
        "colab_type": "code",
        "colab": {}
      },
      "cell_type": "code",
      "source": [
        "df_test = df_test.drop('this_duration', axis=1)"
      ],
      "execution_count": 0,
      "outputs": []
    },
    {
      "metadata": {
        "id": "G3Av3P9PGfMu",
        "colab_type": "code",
        "colab": {}
      },
      "cell_type": "code",
      "source": [
        "test_input = df_test.values"
      ],
      "execution_count": 0,
      "outputs": []
    },
    {
      "metadata": {
        "id": "KzWow2yiyeNt",
        "colab_type": "text"
      },
      "cell_type": "markdown",
      "source": [
        "```\n",
        "from keras.datasets import boston_housing\n",
        "\n",
        "(train_data, train_targets), (test_data, test_targets) = boston_housing.load_data()\n",
        "```"
      ]
    },
    {
      "metadata": {
        "id": "tMijhoTe5dmX",
        "colab_type": "text"
      },
      "cell_type": "markdown",
      "source": [
        ""
      ]
    },
    {
      "metadata": {
        "id": "d2mu6nJGzW7j",
        "colab_type": "text"
      },
      "cell_type": "markdown",
      "source": [
        "```\n",
        "#for each feature, take mean, subtract mean to get a mean of 0, then divide by std to get std of 1\n",
        "#numpy makes it easy to map these operations across all features.\n",
        "\n",
        "\n",
        "mean = train_data.mean(axis=0)\n",
        "train_data -= mean\n",
        "std = train_data.std(axis=0)\n",
        "train_data /= std\n",
        "\n",
        "test_data -= mean\n",
        "test_data /= std\n",
        "\n",
        "print(train_data[:10])\n",
        "print(test_data[:10])\n",
        "```"
      ]
    },
    {
      "metadata": {
        "id": "zNIhU6zxH1Ri",
        "colab_type": "code",
        "colab": {
          "base_uri": "https://localhost:8080/",
          "height": 69
        },
        "outputId": "93fb6930-fbf5-4ec4-ea4c-bb9e78e620c1"
      },
      "cell_type": "code",
      "source": [
        "print(train_input[0][:10])\n",
        "mean = train_input.mean(axis=0)\n",
        "train_input -= mean\n",
        "print(train_input[0][:10])"
      ],
      "execution_count": 19,
      "outputs": [
        {
          "output_type": "stream",
          "text": [
            "[19.  3. 14. 36.  4.  3. 15.]\n",
            "[ -0.61166667  -0.61166667  -0.3          6.56       -24.75333333\n",
            "   0.11333333  -7.29166667]\n"
          ],
          "name": "stdout"
        }
      ]
    },
    {
      "metadata": {
        "id": "kukTCCeCIUoP",
        "colab_type": "code",
        "colab": {
          "base_uri": "https://localhost:8080/",
          "height": 52
        },
        "outputId": "3f8a3f45-3fba-423b-a1ea-007dbff8309d"
      },
      "cell_type": "code",
      "source": [
        "std = train_input.std(axis=0)\n",
        "train_input /= std\n",
        "print(train_input[0][:10])"
      ],
      "execution_count": 20,
      "outputs": [
        {
          "output_type": "stream",
          "text": [
            "[-1.25503279 -1.25503279 -0.18545863  0.37465143 -1.44650226  0.07526915\n",
            " -0.70911087]\n"
          ],
          "name": "stdout"
        }
      ]
    },
    {
      "metadata": {
        "id": "KEQBMc8VIvUR",
        "colab_type": "code",
        "colab": {
          "base_uri": "https://localhost:8080/",
          "height": 52
        },
        "outputId": "3655f566-1f65-4928-c57b-fef5156e6cf3"
      },
      "cell_type": "code",
      "source": [
        "std"
      ],
      "execution_count": 21,
      "outputs": [
        {
          "output_type": "execute_result",
          "data": {
            "text/plain": [
              "array([ 0.48737107,  0.48737107,  1.61761141, 17.50960879, 17.11254381,\n",
              "        1.50570766, 10.28283021])"
            ]
          },
          "metadata": {
            "tags": []
          },
          "execution_count": 21
        }
      ]
    },
    {
      "metadata": {
        "id": "FKEeQrmsMAYv",
        "colab_type": "code",
        "colab": {
          "base_uri": "https://localhost:8080/",
          "height": 69
        },
        "outputId": "c287750d-a4ce-42cb-8361-4d3414e4567e"
      },
      "cell_type": "code",
      "source": [
        "print(test_input[0][:10])\n",
        "mean = test_input.mean(axis=0)\n",
        "test_input -= mean\n",
        "print(test_input[0][:10])"
      ],
      "execution_count": 22,
      "outputs": [
        {
          "output_type": "stream",
          "text": [
            "[20.  4. 16. 22.  5.  2. 15.]\n",
            "[ -0.49717514  -0.49717514   2.21468927  -7.55932203 -25.01129944\n",
            "  -0.32768362  -8.69491525]\n"
          ],
          "name": "stdout"
        }
      ]
    },
    {
      "metadata": {
        "id": "KjFVWnA1MMMo",
        "colab_type": "code",
        "colab": {
          "base_uri": "https://localhost:8080/",
          "height": 52
        },
        "outputId": "ebea12b5-3951-4935-809f-167409fb31ad"
      },
      "cell_type": "code",
      "source": [
        "std = test_input.std(axis=0)\n",
        "test_input /= std\n",
        "print(test_input[0][:10])"
      ],
      "execution_count": 23,
      "outputs": [
        {
          "output_type": "stream",
          "text": [
            "[-0.99436615 -0.99436615  0.69801517 -0.43774366 -1.4214277  -0.25556365\n",
            " -0.64210738]\n"
          ],
          "name": "stdout"
        }
      ]
    },
    {
      "metadata": {
        "id": "31Fpllvo0M9q",
        "colab_type": "code",
        "colab": {
          "base_uri": "https://localhost:8080/",
          "height": 35
        },
        "outputId": "e38a2219-3cc4-4106-8d96-e94b8a756d1a"
      },
      "cell_type": "code",
      "source": [
        "from keras import models\n",
        "from keras import layers\n",
        "\n",
        "def build_model():\n",
        "    model = models.Sequential()\n",
        "    model.add(layers.Dense(64, activation='relu',\n",
        "                           input_shape=(train_input.shape[1],)))\n",
        "    model.add(layers.Dense(64, activation='relu'))\n",
        "    model.add(layers.Dense(1))\n",
        "    model.compile(optimizer='rmsprop', loss='mse', metrics=['mae'])\n",
        "    return model\n"
      ],
      "execution_count": 24,
      "outputs": [
        {
          "output_type": "stream",
          "text": [
            "Using TensorFlow backend.\n"
          ],
          "name": "stderr"
        }
      ]
    },
    {
      "metadata": {
        "id": "cUw3Xh4b0ZN6",
        "colab_type": "code",
        "colab": {
          "base_uri": "https://localhost:8080/",
          "height": 87
        },
        "outputId": "9438dba3-bd75-424c-9645-15cbf39aff3f"
      },
      "cell_type": "code",
      "source": [
        "import numpy as np\n",
        "\n",
        "k = 4\n",
        "num_val_samples = len(train_input) // k\n",
        "num_epochs = 100\n",
        "all_scores = []\n",
        "for i in range(k):\n",
        "    print('processing fold #', i)\n",
        "    val_data = train_input[i * num_val_samples: (i + 1) * num_val_samples]\n",
        "    val_targets = train_target[i * num_val_samples: (i + 1) * num_val_samples]\n",
        "\n",
        "    partial_train_data = np.concatenate(\n",
        "        [train_input[:i * num_val_samples],\n",
        "         train_input[(i + 1) * num_val_samples:]],\n",
        "        axis=0)\n",
        "    partial_train_targets = np.concatenate(\n",
        "        [train_target[:i * num_val_samples],\n",
        "         train_target[(i + 1) * num_val_samples:]],\n",
        "        axis=0)\n",
        "\n",
        "    model = build_model()\n",
        "    model.fit(partial_train_data, partial_train_targets,\n",
        "              epochs=num_epochs, batch_size=1, verbose=0)\n",
        "    val_mse, val_mae = model.evaluate(val_data, val_targets, verbose=0)\n",
        "    all_scores.append(val_mae)\n"
      ],
      "execution_count": 25,
      "outputs": [
        {
          "output_type": "stream",
          "text": [
            "processing fold # 0\n",
            "processing fold # 1\n",
            "processing fold # 2\n",
            "processing fold # 3\n"
          ],
          "name": "stdout"
        }
      ]
    },
    {
      "metadata": {
        "id": "iTbrA1Mc1TWK",
        "colab_type": "code",
        "colab": {
          "base_uri": "https://localhost:8080/",
          "height": 35
        },
        "outputId": "f9d87e43-5b41-49de-c29e-ceaa1986a76a"
      },
      "cell_type": "code",
      "source": [
        "all_scores\n",
        "#[2.588258957792037, 3.1289568449719116, 3.1856116051248984, 3.0763342615401386]\n"
      ],
      "execution_count": 26,
      "outputs": [
        {
          "output_type": "execute_result",
          "data": {
            "text/plain": [
              "[11.510405820210774, 10.646002184549967, 9.709976387023925, 10.269716135660808]"
            ]
          },
          "metadata": {
            "tags": []
          },
          "execution_count": 26
        }
      ]
    },
    {
      "metadata": {
        "id": "6G1wachj1aUN",
        "colab_type": "code",
        "colab": {
          "base_uri": "https://localhost:8080/",
          "height": 35
        },
        "outputId": "be0c5608-1597-4ad1-c0ff-38e7ae8cd7c9"
      },
      "cell_type": "code",
      "source": [
        "np.mean(all_scores)\n",
        "#2.9947904173572462"
      ],
      "execution_count": 27,
      "outputs": [
        {
          "output_type": "execute_result",
          "data": {
            "text/plain": [
              "10.53402513186137"
            ]
          },
          "metadata": {
            "tags": []
          },
          "execution_count": 27
        }
      ]
    },
    {
      "metadata": {
        "id": "t7K799fL15fg",
        "colab_type": "code",
        "colab": {
          "base_uri": "https://localhost:8080/",
          "height": 87
        },
        "outputId": "8055d8af-6709-4e79-d548-28ce1874ec6b"
      },
      "cell_type": "code",
      "source": [
        "#try for 500 epochs and more monitoring\n",
        "\n",
        "num_epochs = 250\n",
        "\n",
        "all_mae_histories = []\n",
        "for i in range(k):\n",
        "    print('processing fold #', i)\n",
        "    val_data = train_input[i * num_val_samples: (i + 1) * num_val_samples]\n",
        "    val_targets = train_target[i * num_val_samples: (i + 1) * num_val_samples]\n",
        "    partial_train_input = np.concatenate(\n",
        "        [train_input[:i * num_val_samples],\n",
        "         train_input[(i + 1) * num_val_samples:]],\n",
        "        axis=0)\n",
        "    partial_train_targets = np.concatenate(\n",
        "        [train_target[:i * num_val_samples],\n",
        "         train_target[(i + 1) * num_val_samples:]],\n",
        "        axis=0)\n",
        "\n",
        "    model = build_model()\n",
        "    history = model.fit(partial_train_data, partial_train_targets,\n",
        "                        validation_data=(val_data, val_targets),\n",
        "                        epochs=num_epochs, batch_size=1, verbose=0)\n",
        "    mae_history = history.history['val_mean_absolute_error']\n",
        "    all_mae_histories.append(mae_history)\n",
        "    "
      ],
      "execution_count": 28,
      "outputs": [
        {
          "output_type": "stream",
          "text": [
            "processing fold # 0\n",
            "processing fold # 1\n",
            "processing fold # 2\n",
            "processing fold # 3\n"
          ],
          "name": "stdout"
        }
      ]
    },
    {
      "metadata": {
        "id": "TEfWBnXk4qE8",
        "colab_type": "code",
        "colab": {
          "base_uri": "https://localhost:8080/",
          "height": 191
        },
        "outputId": "7641bee6-233b-453b-edaf-14b16870e89a"
      },
      "cell_type": "code",
      "source": [
        "all_mae_histories[0][:10]"
      ],
      "execution_count": 29,
      "outputs": [
        {
          "output_type": "execute_result",
          "data": {
            "text/plain": [
              "[8.853803876241049,\n",
              " 9.290015767415365,\n",
              " 9.245444501241048,\n",
              " 9.227819379170736,\n",
              " 9.12681027730306,\n",
              " 9.159519373575847,\n",
              " 8.945298728942872,\n",
              " 9.19935915629069,\n",
              " 9.317804476420084,\n",
              " 9.502103449503581]"
            ]
          },
          "metadata": {
            "tags": []
          },
          "execution_count": 29
        }
      ]
    },
    {
      "metadata": {
        "id": "wTYbjGvM2d0m",
        "colab_type": "code",
        "colab": {}
      },
      "cell_type": "code",
      "source": [
        "average_mae_history = [np.mean([x[i] for x in all_mae_histories]) for i in range(num_epochs)]"
      ],
      "execution_count": 0,
      "outputs": []
    },
    {
      "metadata": {
        "id": "7HTHfEza2qY2",
        "colab_type": "code",
        "colab": {
          "base_uri": "https://localhost:8080/",
          "height": 363
        },
        "outputId": "bc282f11-762e-497a-ef43-fa10bd77c2e4"
      },
      "cell_type": "code",
      "source": [
        "import matplotlib.pyplot as plt\n",
        "\n",
        "plt.plot(range(1, len(average_mae_history) + 1), average_mae_history)\n",
        "plt.xlabel('Epochs')\n",
        "plt.ylabel('Validation MAE')\n",
        "plt.show()"
      ],
      "execution_count": 31,
      "outputs": [
        {
          "output_type": "display_data",
          "data": {
            "image/png": "[encoded data removed]",
            "text/plain": [
              "<matplotlib.figure.Figure at 0x7fd1e0afd6d8>"
            ]
          },
          "metadata": {
            "tags": []
          }
        }
      ]
    },
    {
      "metadata": {
        "id": "8SjpN_kt2_Hj",
        "colab_type": "code",
        "colab": {
          "base_uri": "https://localhost:8080/",
          "height": 363
        },
        "outputId": "72bdf6cc-99e5-46a7-f34f-150ac56c8089"
      },
      "cell_type": "code",
      "source": [
        "def smooth_curve(points, factor=0.9):\n",
        "  smoothed_points = []\n",
        "  for point in points:\n",
        "    if smoothed_points:\n",
        "      previous = smoothed_points[-1]\n",
        "      smoothed_points.append(previous * factor + point * (1 - factor))\n",
        "    else:\n",
        "      smoothed_points.append(point)\n",
        "  return smoothed_points\n",
        "\n",
        "smooth_mae_history = smooth_curve(average_mae_history[10:])\n",
        "\n",
        "plt.plot(range(1, len(smooth_mae_history) + 1), smooth_mae_history)\n",
        "plt.xlabel('Epochs')\n",
        "plt.ylabel('Validation MAE')\n",
        "plt.show()"
      ],
      "execution_count": 32,
      "outputs": [
        {
          "output_type": "display_data",
          "data": {
            "image/png": "[encoded data removed]",
            "text/plain": [
              "<matplotlib.figure.Figure at 0x7fd1deaa5828>"
            ]
          },
          "metadata": {
            "tags": []
          }
        }
      ]
    },
    {
      "metadata": {
        "id": "msP6XONo3Wma",
        "colab_type": "code",
        "colab": {
          "base_uri": "https://localhost:8080/",
          "height": 35
        },
        "outputId": "2cf85ea6-8173-49b0-c105-c0e9ed61d457"
      },
      "cell_type": "code",
      "source": [
        "#now that know where to set epochs, go back and train on full training data.\n",
        "\n",
        "new_epochs = 20\n",
        "batch_size = 1\n",
        "\n",
        "model = build_model()\n",
        "model.fit(train_input, train_target,\n",
        "          epochs=new_epochs, batch_size=batch_size, verbose=0)\n",
        "test_mse_score, test_mae_score = model.evaluate(test_input, test_target)\n",
        "\n"
      ],
      "execution_count": 33,
      "outputs": [
        {
          "output_type": "stream",
          "text": [
            "177/177 [==============================] - 0s 644us/step\n"
          ],
          "name": "stdout"
        }
      ]
    },
    {
      "metadata": {
        "id": "ZI8Q-_znTlTa",
        "colab_type": "code",
        "colab": {
          "base_uri": "https://localhost:8080/",
          "height": 35
        },
        "outputId": "8d468abf-67e7-4bd2-87e8-b2cae2e45183"
      },
      "cell_type": "code",
      "source": [
        "print((test_mse_score, test_mae_score))"
      ],
      "execution_count": 34,
      "outputs": [
        {
          "output_type": "stream",
          "text": [
            "(183.6587974419028, 11.185988097541076)\n"
          ],
          "name": "stdout"
        }
      ]
    },
    {
      "metadata": {
        "id": "kAJEoLw_4dwI",
        "colab_type": "code",
        "colab": {
          "base_uri": "https://localhost:8080/",
          "height": 52
        },
        "outputId": "ef79e871-b86a-4686-8bc7-41d44d2defb4"
      },
      "cell_type": "code",
      "source": [
        "model = build_model()\n",
        "model.fit(train_input, train_target,\n",
        "          epochs=20, batch_size=16, verbose=0)\n",
        "test_mse_score, test_mae_score = model.evaluate(test_input, test_target)\n",
        "\n",
        "test_mae_score"
      ],
      "execution_count": 37,
      "outputs": [
        {
          "output_type": "stream",
          "text": [
            "177/177 [==============================] - 0s 840us/step\n"
          ],
          "name": "stdout"
        },
        {
          "output_type": "execute_result",
          "data": {
            "text/plain": [
              "10.891290675448833"
            ]
          },
          "metadata": {
            "tags": []
          },
          "execution_count": 37
        }
      ]
    },
    {
      "metadata": {
        "id": "3J4qeQYA4NI5",
        "colab_type": "code",
        "colab": {}
      },
      "cell_type": "code",
      "source": [
        "predictions = model.predict(test_input)"
      ],
      "execution_count": 0,
      "outputs": []
    },
    {
      "metadata": {
        "id": "JF_PWydq5F9I",
        "colab_type": "code",
        "colab": {
          "base_uri": "https://localhost:8080/",
          "height": 191
        },
        "outputId": "0921464f-366a-4105-93d9-9032dd508c4f"
      },
      "cell_type": "code",
      "source": [
        "predictions[:10]"
      ],
      "execution_count": 39,
      "outputs": [
        {
          "output_type": "execute_result",
          "data": {
            "text/plain": [
              "array([[18.62755 ],\n",
              "       [17.62868 ],\n",
              "       [17.773882],\n",
              "       [18.456469],\n",
              "       [23.432985],\n",
              "       [17.679962],\n",
              "       [19.109148],\n",
              "       [17.704727],\n",
              "       [17.191616],\n",
              "       [19.793732]], dtype=float32)"
            ]
          },
          "metadata": {
            "tags": []
          },
          "execution_count": 39
        }
      ]
    },
    {
      "metadata": {
        "id": "kPFZ6f6V5MFc",
        "colab_type": "code",
        "colab": {}
      },
      "cell_type": "code",
      "source": [
        "diffs = []\n",
        "for i in range(len(test_target)):\n",
        "  actual = test_target[i]\n",
        "  pred = predictions[i][0]\n",
        "  diffs.append(pred-actual)\n",
        "          "
      ],
      "execution_count": 0,
      "outputs": []
    },
    {
      "metadata": {
        "id": "HyrXgvrt6DeS",
        "colab_type": "code",
        "colab": {
          "base_uri": "https://localhost:8080/",
          "height": 191
        },
        "outputId": "b01e86bc-49e8-48e8-bd92-2b5c9fca539b"
      },
      "cell_type": "code",
      "source": [
        "diffs[:10]  #negative is under-estimating"
      ],
      "execution_count": 41,
      "outputs": [
        {
          "output_type": "execute_result",
          "data": {
            "text/plain": [
              "[5.62755012512207,\n",
              " -16.371320724487305,\n",
              " -0.2261180877685547,\n",
              " 1.4564685821533203,\n",
              " -8.567014694213867,\n",
              " 4.679962158203125,\n",
              " 9.109148025512695,\n",
              " -9.295272827148438,\n",
              " 7.191616058349609,\n",
              " -10.206268310546875]"
            ]
          },
          "metadata": {
            "tags": []
          },
          "execution_count": 41
        }
      ]
    },
    {
      "metadata": {
        "id": "-izFHLLu65Wh",
        "colab_type": "code",
        "colab": {
          "base_uri": "https://localhost:8080/",
          "height": 347
        },
        "outputId": "fba2c102-a2ab-49ab-e847-2044eed42804"
      },
      "cell_type": "code",
      "source": [
        "\n",
        "plt.hist(diffs)\n",
        "plt.show()"
      ],
      "execution_count": 46,
      "outputs": [
        {
          "output_type": "display_data",
          "data": {
            "image/png": "[encoded data removed]",
            "text/plain": [
              "<matplotlib.figure.Figure at 0x7fd1de11bcf8>"
            ]
          },
          "metadata": {
            "tags": []
          }
        }
      ]
    },
    {
      "metadata": {
        "id": "SOIatYqwv8nh",
        "colab_type": "code",
        "colab": {
          "base_uri": "https://localhost:8080/",
          "height": 35
        },
        "outputId": "5e7c2e65-b166-4a68-d8e0-995c0e573a7f"
      },
      "cell_type": "code",
      "source": [
        "over = [x for x in diffs if x>0]\n",
        "over_average = sum(over)/len(over)\n",
        "over_average"
      ],
      "execution_count": 52,
      "outputs": [
        {
          "output_type": "execute_result",
          "data": {
            "text/plain": [
              "8.198202911688357"
            ]
          },
          "metadata": {
            "tags": []
          },
          "execution_count": 52
        }
      ]
    },
    {
      "metadata": {
        "id": "m4_R71Ye_zz5",
        "colab_type": "code",
        "colab": {
          "base_uri": "https://localhost:8080/",
          "height": 35
        },
        "outputId": "55ede8d1-822d-43b0-ca73-822469387721"
      },
      "cell_type": "code",
      "source": [
        "under = [x for x in diffs if x<0]\n",
        "under_average = sum(under)/len(under)\n",
        "under_average"
      ],
      "execution_count": 53,
      "outputs": [
        {
          "output_type": "execute_result",
          "data": {
            "text/plain": [
              "-14.232082197937784"
            ]
          },
          "metadata": {
            "tags": []
          },
          "execution_count": 53
        }
      ]
    },
    {
      "metadata": {
        "id": "NeD6tdsdAzB6",
        "colab_type": "text"
      },
      "cell_type": "markdown",
      "source": [
        "predict less than actual at average of 14.23. Rider has to wait longer than we predict.\n",
        "\n",
        "Not so good.\n",
        "\n",
        "Both are roughly equal in terms of numbers of over and under predictions."
      ]
    },
    {
      "metadata": {
        "id": "LjSKEjAPCf1n",
        "colab_type": "code",
        "colab": {
          "base_uri": "https://localhost:8080/",
          "height": 35
        },
        "outputId": "4fdc0086-36ed-4270-b408-d2031a167571"
      },
      "cell_type": "code",
      "source": [
        "(len(over),len(under))  #over predicting at roughly 10% more"
      ],
      "execution_count": 54,
      "outputs": [
        {
          "output_type": "execute_result",
          "data": {
            "text/plain": [
              "(98, 79)"
            ]
          },
          "metadata": {
            "tags": []
          },
          "execution_count": 54
        }
      ]
    },
    {
      "metadata": {
        "id": "1iz0tA83stgG",
        "colab_type": "text"
      },
      "cell_type": "markdown",
      "source": [
        "GET MORE DATA BEFORE MESSING WITH HYPER PARAMS"
      ]
    }
  ]
}