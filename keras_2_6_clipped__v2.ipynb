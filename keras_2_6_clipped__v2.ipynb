{
  "nbformat": 4,
  "nbformat_minor": 0,
  "metadata": {
    "colab": {
      "name": "keras_2_6_clipped _v2.ipynb",
      "version": "0.3.2",
      "provenance": [],
      "collapsed_sections": [],
      "include_colab_link": true
    },
    "kernelspec": {
      "name": "python3",
      "display_name": "Python 3"
    }
  },
  "cells": [
    {
      "cell_type": "markdown",
      "metadata": {
        "id": "view-in-github",
        "colab_type": "text"
      },
      "source": [
        "[View in Colaboratory](https://colab.research.google.com/github/fickas/mccain/blob/master/keras_2_6_clipped__v2.ipynb)"
      ]
    },
    {
      "metadata": {
        "id": "fK7OB-kT8SJB",
        "colab_type": "text"
      },
      "cell_type": "markdown",
      "source": [
        "# clipped means clipped duration to 51. max should be 50 once call is placed.\n",
        "\n",
        "\n"
      ]
    },
    {
      "metadata": {
        "id": "V7sFXFIL5FP8",
        "colab_type": "text"
      },
      "cell_type": "markdown",
      "source": [
        "<ul>\n",
        "<li>Regression is done using different loss functions than what we used for classification. Mean squared error (MSE) is a loss function commonly used for regression.\n",
        "<li>Similarly, evaluation metrics to be used for regression differ from those used for classification; naturally, the concept of accuracy doesn’t apply for regression. A common regression metric is mean absolute error (MAE).\n",
        "<li>When features in the input data have values in different ranges, each feature should be scaled independently as a preprocessing step.\n",
        "<li>When there is little data available, using K-fold validation is a great way to reliably evaluate a model.\n",
        "<li>When little training data is available, it’s preferable to use a small network with few hidden layers (typically only one or two), in order to avoid severe overfitting.\n",
        "  </ul>\n",
        "\n",
        "\n"
      ]
    },
    {
      "metadata": {
        "id": "VqZwqR63GKIR",
        "colab_type": "code",
        "colab": {
          "base_uri": "https://localhost:8080/",
          "height": 17
        },
        "outputId": "b2ae5892-0b6b-491c-eaaf-7d8c3eb81269"
      },
      "cell_type": "code",
      "source": [
        "%%html\n",
        "<style>\n",
        ".h1_cell, .just_text {\n",
        "    box-sizing: border-box;\n",
        "    padding-top:5px;\n",
        "    padding-bottom:5px;\n",
        "    font-family: \"Times New Roman\", Georgia, Serif;\n",
        "    font-size: 125%;\n",
        "    line-height: 22px; /* 5px +12px + 5px */\n",
        "    text-indent: 25px;\n",
        "    background-color: #c8bbc8; /* #fbfbea; */\n",
        "    padding: 10px;\n",
        "}\n",
        "\n",
        "hr { \n",
        "    display: block;\n",
        "    margin-top: 0.5em;\n",
        "    margin-bottom: 0.5em;\n",
        "    margin-left: auto;\n",
        "    margin-right: auto;\n",
        "    border-style: inset;\n",
        "    border-width: 4px;\n",
        "}\n",
        "</style>"
      ],
      "execution_count": 2,
      "outputs": [
        {
          "output_type": "display_data",
          "data": {
            "text/html": [
              "<style>\n",
              ".h1_cell, .just_text {\n",
              "    box-sizing: border-box;\n",
              "    padding-top:5px;\n",
              "    padding-bottom:5px;\n",
              "    font-family: \"Times New Roman\", Georgia, Serif;\n",
              "    font-size: 125%;\n",
              "    line-height: 22px; /* 5px +12px + 5px */\n",
              "    text-indent: 25px;\n",
              "    background-color: #c8bbc8; /* #fbfbea; */\n",
              "    padding: 10px;\n",
              "}\n",
              "\n",
              "hr { \n",
              "    display: block;\n",
              "    margin-top: 0.5em;\n",
              "    margin-bottom: 0.5em;\n",
              "    margin-left: auto;\n",
              "    margin-right: auto;\n",
              "    border-style: inset;\n",
              "    border-width: 4px;\n",
              "}\n",
              "</style>"
            ],
            "text/plain": [
              "<IPython.core.display.HTML object>"
            ]
          },
          "metadata": {
            "tags": []
          }
        }
      ]
    },
    {
      "metadata": {
        "id": "z_uHfqz3GWEV",
        "colab_type": "text"
      },
      "cell_type": "markdown",
      "source": [
        "<h1>\n",
        "<font color=\"blue\">My comments in blue</font>\n",
        "</h1>\n",
        "<div class=h1_cell>\n",
        "<p>\n",
        "Just testing.\n",
        "</div>\n",
        "<hr>"
      ]
    },
    {
      "metadata": {
        "id": "yfTrAA_m9ege",
        "colab_type": "code",
        "colab": {}
      },
      "cell_type": "code",
      "source": [
        "#get data\n",
        "\n",
        "import pandas as pd"
      ],
      "execution_count": 0,
      "outputs": []
    },
    {
      "metadata": {
        "id": "WONIfRzL91-c",
        "colab_type": "code",
        "colab": {}
      },
      "cell_type": "code",
      "source": [
        "df_26 = pd.read_csv('https://www.dropbox.com/s/1b3yned4fac1kjx/df_26_v2.csv?raw=1')"
      ],
      "execution_count": 0,
      "outputs": []
    },
    {
      "metadata": {
        "id": "Gz_fKh4u-HyV",
        "colab_type": "code",
        "colab": {
          "base_uri": "https://localhost:8080/",
          "height": 222
        },
        "outputId": "ace13d36-8e4b-4133-cd61-d246f5c321bc"
      },
      "cell_type": "code",
      "source": [
        "df_26.head()"
      ],
      "execution_count": 5,
      "outputs": [
        {
          "output_type": "execute_result",
          "data": {
            "text/html": [
              "<div>\n",
              "<style scoped>\n",
              "    .dataframe tbody tr th:only-of-type {\n",
              "        vertical-align: middle;\n",
              "    }\n",
              "\n",
              "    .dataframe tbody tr th {\n",
              "        vertical-align: top;\n",
              "    }\n",
              "\n",
              "    .dataframe thead th {\n",
              "        text-align: right;\n",
              "    }\n",
              "</style>\n",
              "<table border=\"1\" class=\"dataframe\">\n",
              "  <thead>\n",
              "    <tr style=\"text-align: right;\">\n",
              "      <th></th>\n",
              "      <th>month</th>\n",
              "      <th>day</th>\n",
              "      <th>dow</th>\n",
              "      <th>hour</th>\n",
              "      <th>minute</th>\n",
              "      <th>second</th>\n",
              "      <th>this_duration</th>\n",
              "      <th>last_phases</th>\n",
              "      <th>last_26_durations</th>\n",
              "      <th>last_phases_map</th>\n",
              "      <th>last_duration_0</th>\n",
              "      <th>last_duration_1</th>\n",
              "      <th>last_duration_2</th>\n",
              "      <th>last_duration_3</th>\n",
              "      <th>last_duration_4</th>\n",
              "      <th>last_duration_5</th>\n",
              "      <th>last_duration_6</th>\n",
              "      <th>last_duration_7</th>\n",
              "      <th>last_duration_8</th>\n",
              "      <th>last_duration_9</th>\n",
              "    </tr>\n",
              "  </thead>\n",
              "  <tbody>\n",
              "    <tr>\n",
              "      <th>0</th>\n",
              "      <td>7</td>\n",
              "      <td>19</td>\n",
              "      <td>3</td>\n",
              "      <td>14</td>\n",
              "      <td>35</td>\n",
              "      <td>29</td>\n",
              "      <td>15</td>\n",
              "      <td>(2,)</td>\n",
              "      <td>()</td>\n",
              "      <td>2.0</td>\n",
              "      <td>NaN</td>\n",
              "      <td>NaN</td>\n",
              "      <td>NaN</td>\n",
              "      <td>NaN</td>\n",
              "      <td>NaN</td>\n",
              "      <td>NaN</td>\n",
              "      <td>NaN</td>\n",
              "      <td>NaN</td>\n",
              "      <td>NaN</td>\n",
              "      <td>NaN</td>\n",
              "    </tr>\n",
              "    <tr>\n",
              "      <th>1</th>\n",
              "      <td>7</td>\n",
              "      <td>19</td>\n",
              "      <td>3</td>\n",
              "      <td>14</td>\n",
              "      <td>36</td>\n",
              "      <td>4</td>\n",
              "      <td>22</td>\n",
              "      <td>(3,)</td>\n",
              "      <td>(15,)</td>\n",
              "      <td>3.0</td>\n",
              "      <td>15.0</td>\n",
              "      <td>NaN</td>\n",
              "      <td>NaN</td>\n",
              "      <td>NaN</td>\n",
              "      <td>NaN</td>\n",
              "      <td>NaN</td>\n",
              "      <td>NaN</td>\n",
              "      <td>NaN</td>\n",
              "      <td>NaN</td>\n",
              "      <td>NaN</td>\n",
              "    </tr>\n",
              "    <tr>\n",
              "      <th>2</th>\n",
              "      <td>7</td>\n",
              "      <td>19</td>\n",
              "      <td>3</td>\n",
              "      <td>14</td>\n",
              "      <td>37</td>\n",
              "      <td>3</td>\n",
              "      <td>13</td>\n",
              "      <td>(4, 3, 5)</td>\n",
              "      <td>(15, 22)</td>\n",
              "      <td>17.0</td>\n",
              "      <td>15.0</td>\n",
              "      <td>22.0</td>\n",
              "      <td>NaN</td>\n",
              "      <td>NaN</td>\n",
              "      <td>NaN</td>\n",
              "      <td>NaN</td>\n",
              "      <td>NaN</td>\n",
              "      <td>NaN</td>\n",
              "      <td>NaN</td>\n",
              "      <td>NaN</td>\n",
              "    </tr>\n",
              "    <tr>\n",
              "      <th>3</th>\n",
              "      <td>7</td>\n",
              "      <td>19</td>\n",
              "      <td>3</td>\n",
              "      <td>14</td>\n",
              "      <td>37</td>\n",
              "      <td>32</td>\n",
              "      <td>10</td>\n",
              "      <td>(2,)</td>\n",
              "      <td>(15, 22, 13)</td>\n",
              "      <td>2.0</td>\n",
              "      <td>15.0</td>\n",
              "      <td>22.0</td>\n",
              "      <td>13.0</td>\n",
              "      <td>NaN</td>\n",
              "      <td>NaN</td>\n",
              "      <td>NaN</td>\n",
              "      <td>NaN</td>\n",
              "      <td>NaN</td>\n",
              "      <td>NaN</td>\n",
              "      <td>NaN</td>\n",
              "    </tr>\n",
              "    <tr>\n",
              "      <th>4</th>\n",
              "      <td>7</td>\n",
              "      <td>19</td>\n",
              "      <td>3</td>\n",
              "      <td>14</td>\n",
              "      <td>37</td>\n",
              "      <td>56</td>\n",
              "      <td>17</td>\n",
              "      <td>(1,)</td>\n",
              "      <td>(15, 22, 13, 10)</td>\n",
              "      <td>1.0</td>\n",
              "      <td>15.0</td>\n",
              "      <td>22.0</td>\n",
              "      <td>13.0</td>\n",
              "      <td>10.0</td>\n",
              "      <td>NaN</td>\n",
              "      <td>NaN</td>\n",
              "      <td>NaN</td>\n",
              "      <td>NaN</td>\n",
              "      <td>NaN</td>\n",
              "      <td>NaN</td>\n",
              "    </tr>\n",
              "  </tbody>\n",
              "</table>\n",
              "</div>"
            ],
            "text/plain": [
              "   month  day  dow  hour  minute  second  this_duration last_phases  \\\n",
              "0      7   19    3    14      35      29             15        (2,)   \n",
              "1      7   19    3    14      36       4             22        (3,)   \n",
              "2      7   19    3    14      37       3             13   (4, 3, 5)   \n",
              "3      7   19    3    14      37      32             10        (2,)   \n",
              "4      7   19    3    14      37      56             17        (1,)   \n",
              "\n",
              "  last_26_durations  last_phases_map  last_duration_0  last_duration_1  \\\n",
              "0                ()              2.0              NaN              NaN   \n",
              "1             (15,)              3.0             15.0              NaN   \n",
              "2          (15, 22)             17.0             15.0             22.0   \n",
              "3      (15, 22, 13)              2.0             15.0             22.0   \n",
              "4  (15, 22, 13, 10)              1.0             15.0             22.0   \n",
              "\n",
              "   last_duration_2  last_duration_3  last_duration_4  last_duration_5  \\\n",
              "0              NaN              NaN              NaN              NaN   \n",
              "1              NaN              NaN              NaN              NaN   \n",
              "2              NaN              NaN              NaN              NaN   \n",
              "3             13.0              NaN              NaN              NaN   \n",
              "4             13.0             10.0              NaN              NaN   \n",
              "\n",
              "   last_duration_6  last_duration_7  last_duration_8  last_duration_9  \n",
              "0              NaN              NaN              NaN              NaN  \n",
              "1              NaN              NaN              NaN              NaN  \n",
              "2              NaN              NaN              NaN              NaN  \n",
              "3              NaN              NaN              NaN              NaN  \n",
              "4              NaN              NaN              NaN              NaN  "
            ]
          },
          "metadata": {
            "tags": []
          },
          "execution_count": 5
        }
      ]
    },
    {
      "metadata": {
        "id": "DYQ7M4Ce-O_2",
        "colab_type": "code",
        "colab": {
          "base_uri": "https://localhost:8080/",
          "height": 309
        },
        "outputId": "c6e9f665-c96f-4b3f-fc04-82cdb497c228"
      },
      "cell_type": "code",
      "source": [
        "df_26 = df_26[10:]\n",
        "df_26 = df_26.reset_index(drop=True)\n",
        "df_26.head()"
      ],
      "execution_count": 6,
      "outputs": [
        {
          "output_type": "execute_result",
          "data": {
            "text/html": [
              "<div>\n",
              "<style scoped>\n",
              "    .dataframe tbody tr th:only-of-type {\n",
              "        vertical-align: middle;\n",
              "    }\n",
              "\n",
              "    .dataframe tbody tr th {\n",
              "        vertical-align: top;\n",
              "    }\n",
              "\n",
              "    .dataframe thead th {\n",
              "        text-align: right;\n",
              "    }\n",
              "</style>\n",
              "<table border=\"1\" class=\"dataframe\">\n",
              "  <thead>\n",
              "    <tr style=\"text-align: right;\">\n",
              "      <th></th>\n",
              "      <th>month</th>\n",
              "      <th>day</th>\n",
              "      <th>dow</th>\n",
              "      <th>hour</th>\n",
              "      <th>minute</th>\n",
              "      <th>second</th>\n",
              "      <th>this_duration</th>\n",
              "      <th>last_phases</th>\n",
              "      <th>last_26_durations</th>\n",
              "      <th>last_phases_map</th>\n",
              "      <th>last_duration_0</th>\n",
              "      <th>last_duration_1</th>\n",
              "      <th>last_duration_2</th>\n",
              "      <th>last_duration_3</th>\n",
              "      <th>last_duration_4</th>\n",
              "      <th>last_duration_5</th>\n",
              "      <th>last_duration_6</th>\n",
              "      <th>last_duration_7</th>\n",
              "      <th>last_duration_8</th>\n",
              "      <th>last_duration_9</th>\n",
              "    </tr>\n",
              "  </thead>\n",
              "  <tbody>\n",
              "    <tr>\n",
              "      <th>0</th>\n",
              "      <td>7</td>\n",
              "      <td>19</td>\n",
              "      <td>3</td>\n",
              "      <td>14</td>\n",
              "      <td>41</td>\n",
              "      <td>41</td>\n",
              "      <td>10</td>\n",
              "      <td>(1, 2)</td>\n",
              "      <td>(15, 22, 13, 10, 17, 13, 10, 19, 8, 26)</td>\n",
              "      <td>6.0</td>\n",
              "      <td>15.0</td>\n",
              "      <td>22.0</td>\n",
              "      <td>13.0</td>\n",
              "      <td>10.0</td>\n",
              "      <td>17.0</td>\n",
              "      <td>13.0</td>\n",
              "      <td>10.0</td>\n",
              "      <td>19.0</td>\n",
              "      <td>8.0</td>\n",
              "      <td>26.0</td>\n",
              "    </tr>\n",
              "    <tr>\n",
              "      <th>1</th>\n",
              "      <td>7</td>\n",
              "      <td>19</td>\n",
              "      <td>3</td>\n",
              "      <td>14</td>\n",
              "      <td>42</td>\n",
              "      <td>19</td>\n",
              "      <td>10</td>\n",
              "      <td>(1, 4, 3, 5)</td>\n",
              "      <td>(22, 13, 10, 17, 13, 10, 19, 8, 26, 10)</td>\n",
              "      <td>19.0</td>\n",
              "      <td>22.0</td>\n",
              "      <td>13.0</td>\n",
              "      <td>10.0</td>\n",
              "      <td>17.0</td>\n",
              "      <td>13.0</td>\n",
              "      <td>10.0</td>\n",
              "      <td>19.0</td>\n",
              "      <td>8.0</td>\n",
              "      <td>26.0</td>\n",
              "      <td>10.0</td>\n",
              "    </tr>\n",
              "    <tr>\n",
              "      <th>2</th>\n",
              "      <td>7</td>\n",
              "      <td>19</td>\n",
              "      <td>3</td>\n",
              "      <td>14</td>\n",
              "      <td>42</td>\n",
              "      <td>58</td>\n",
              "      <td>21</td>\n",
              "      <td>(1, 2)</td>\n",
              "      <td>(13, 10, 17, 13, 10, 19, 8, 26, 10, 10)</td>\n",
              "      <td>6.0</td>\n",
              "      <td>13.0</td>\n",
              "      <td>10.0</td>\n",
              "      <td>17.0</td>\n",
              "      <td>13.0</td>\n",
              "      <td>10.0</td>\n",
              "      <td>19.0</td>\n",
              "      <td>8.0</td>\n",
              "      <td>26.0</td>\n",
              "      <td>10.0</td>\n",
              "      <td>10.0</td>\n",
              "    </tr>\n",
              "    <tr>\n",
              "      <th>3</th>\n",
              "      <td>7</td>\n",
              "      <td>19</td>\n",
              "      <td>3</td>\n",
              "      <td>14</td>\n",
              "      <td>43</td>\n",
              "      <td>30</td>\n",
              "      <td>8</td>\n",
              "      <td>(2,)</td>\n",
              "      <td>(10, 17, 13, 10, 19, 8, 26, 10, 10, 21)</td>\n",
              "      <td>2.0</td>\n",
              "      <td>10.0</td>\n",
              "      <td>17.0</td>\n",
              "      <td>13.0</td>\n",
              "      <td>10.0</td>\n",
              "      <td>19.0</td>\n",
              "      <td>8.0</td>\n",
              "      <td>26.0</td>\n",
              "      <td>10.0</td>\n",
              "      <td>10.0</td>\n",
              "      <td>21.0</td>\n",
              "    </tr>\n",
              "    <tr>\n",
              "      <th>4</th>\n",
              "      <td>7</td>\n",
              "      <td>19</td>\n",
              "      <td>3</td>\n",
              "      <td>14</td>\n",
              "      <td>43</td>\n",
              "      <td>50</td>\n",
              "      <td>35</td>\n",
              "      <td>(1,)</td>\n",
              "      <td>(17, 13, 10, 19, 8, 26, 10, 10, 21, 8)</td>\n",
              "      <td>1.0</td>\n",
              "      <td>17.0</td>\n",
              "      <td>13.0</td>\n",
              "      <td>10.0</td>\n",
              "      <td>19.0</td>\n",
              "      <td>8.0</td>\n",
              "      <td>26.0</td>\n",
              "      <td>10.0</td>\n",
              "      <td>10.0</td>\n",
              "      <td>21.0</td>\n",
              "      <td>8.0</td>\n",
              "    </tr>\n",
              "  </tbody>\n",
              "</table>\n",
              "</div>"
            ],
            "text/plain": [
              "   month  day  dow  hour  minute  second  this_duration   last_phases  \\\n",
              "0      7   19    3    14      41      41             10        (1, 2)   \n",
              "1      7   19    3    14      42      19             10  (1, 4, 3, 5)   \n",
              "2      7   19    3    14      42      58             21        (1, 2)   \n",
              "3      7   19    3    14      43      30              8          (2,)   \n",
              "4      7   19    3    14      43      50             35          (1,)   \n",
              "\n",
              "                         last_26_durations  last_phases_map  last_duration_0  \\\n",
              "0  (15, 22, 13, 10, 17, 13, 10, 19, 8, 26)              6.0             15.0   \n",
              "1  (22, 13, 10, 17, 13, 10, 19, 8, 26, 10)             19.0             22.0   \n",
              "2  (13, 10, 17, 13, 10, 19, 8, 26, 10, 10)              6.0             13.0   \n",
              "3  (10, 17, 13, 10, 19, 8, 26, 10, 10, 21)              2.0             10.0   \n",
              "4   (17, 13, 10, 19, 8, 26, 10, 10, 21, 8)              1.0             17.0   \n",
              "\n",
              "   last_duration_1  last_duration_2  last_duration_3  last_duration_4  \\\n",
              "0             22.0             13.0             10.0             17.0   \n",
              "1             13.0             10.0             17.0             13.0   \n",
              "2             10.0             17.0             13.0             10.0   \n",
              "3             17.0             13.0             10.0             19.0   \n",
              "4             13.0             10.0             19.0              8.0   \n",
              "\n",
              "   last_duration_5  last_duration_6  last_duration_7  last_duration_8  \\\n",
              "0             13.0             10.0             19.0              8.0   \n",
              "1             10.0             19.0              8.0             26.0   \n",
              "2             19.0              8.0             26.0             10.0   \n",
              "3              8.0             26.0             10.0             10.0   \n",
              "4             26.0             10.0             10.0             21.0   \n",
              "\n",
              "   last_duration_9  \n",
              "0             26.0  \n",
              "1             10.0  \n",
              "2             10.0  \n",
              "3             21.0  \n",
              "4              8.0  "
            ]
          },
          "metadata": {
            "tags": []
          },
          "execution_count": 6
        }
      ]
    },
    {
      "metadata": {
        "id": "wr6DJbLS-h9o",
        "colab_type": "code",
        "colab": {
          "base_uri": "https://localhost:8080/",
          "height": 314
        },
        "outputId": "e861a549-6ba1-4a2e-fa7f-dcd903423737"
      },
      "cell_type": "code",
      "source": [
        "df_26.describe()"
      ],
      "execution_count": 7,
      "outputs": [
        {
          "output_type": "execute_result",
          "data": {
            "text/html": [
              "<div>\n",
              "<style scoped>\n",
              "    .dataframe tbody tr th:only-of-type {\n",
              "        vertical-align: middle;\n",
              "    }\n",
              "\n",
              "    .dataframe tbody tr th {\n",
              "        vertical-align: top;\n",
              "    }\n",
              "\n",
              "    .dataframe thead th {\n",
              "        text-align: right;\n",
              "    }\n",
              "</style>\n",
              "<table border=\"1\" class=\"dataframe\">\n",
              "  <thead>\n",
              "    <tr style=\"text-align: right;\">\n",
              "      <th></th>\n",
              "      <th>month</th>\n",
              "      <th>day</th>\n",
              "      <th>dow</th>\n",
              "      <th>hour</th>\n",
              "      <th>minute</th>\n",
              "      <th>second</th>\n",
              "      <th>this_duration</th>\n",
              "      <th>last_phases_map</th>\n",
              "      <th>last_duration_0</th>\n",
              "      <th>last_duration_1</th>\n",
              "      <th>last_duration_2</th>\n",
              "      <th>last_duration_3</th>\n",
              "      <th>last_duration_4</th>\n",
              "      <th>last_duration_5</th>\n",
              "      <th>last_duration_6</th>\n",
              "      <th>last_duration_7</th>\n",
              "      <th>last_duration_8</th>\n",
              "      <th>last_duration_9</th>\n",
              "    </tr>\n",
              "  </thead>\n",
              "  <tbody>\n",
              "    <tr>\n",
              "      <th>count</th>\n",
              "      <td>6491.000000</td>\n",
              "      <td>6491.000000</td>\n",
              "      <td>6491.000000</td>\n",
              "      <td>6491.000000</td>\n",
              "      <td>6491.000000</td>\n",
              "      <td>6491.000000</td>\n",
              "      <td>6491.000000</td>\n",
              "      <td>6491.000000</td>\n",
              "      <td>6491.000000</td>\n",
              "      <td>6491.000000</td>\n",
              "      <td>6491.000000</td>\n",
              "      <td>6491.000000</td>\n",
              "      <td>6491.000000</td>\n",
              "      <td>6491.000000</td>\n",
              "      <td>6491.000000</td>\n",
              "      <td>6491.000000</td>\n",
              "      <td>6491.000000</td>\n",
              "      <td>6491.000000</td>\n",
              "    </tr>\n",
              "    <tr>\n",
              "      <th>mean</th>\n",
              "      <td>7.433215</td>\n",
              "      <td>17.800647</td>\n",
              "      <td>1.763057</td>\n",
              "      <td>13.162071</td>\n",
              "      <td>29.585888</td>\n",
              "      <td>29.318749</td>\n",
              "      <td>128.627022</td>\n",
              "      <td>5.567093</td>\n",
              "      <td>122.001232</td>\n",
              "      <td>122.001541</td>\n",
              "      <td>122.001232</td>\n",
              "      <td>122.000462</td>\n",
              "      <td>122.002465</td>\n",
              "      <td>122.002927</td>\n",
              "      <td>122.031736</td>\n",
              "      <td>122.031890</td>\n",
              "      <td>122.032198</td>\n",
              "      <td>128.192420</td>\n",
              "    </tr>\n",
              "    <tr>\n",
              "      <th>std</th>\n",
              "      <td>0.495558</td>\n",
              "      <td>9.153106</td>\n",
              "      <td>1.285427</td>\n",
              "      <td>3.568815</td>\n",
              "      <td>17.342995</td>\n",
              "      <td>17.307753</td>\n",
              "      <td>2177.232153</td>\n",
              "      <td>5.263321</td>\n",
              "      <td>2119.973238</td>\n",
              "      <td>2119.973222</td>\n",
              "      <td>2119.973237</td>\n",
              "      <td>2119.973277</td>\n",
              "      <td>2119.973178</td>\n",
              "      <td>2119.973155</td>\n",
              "      <td>2119.972944</td>\n",
              "      <td>2119.972936</td>\n",
              "      <td>2119.972921</td>\n",
              "      <td>2176.970986</td>\n",
              "    </tr>\n",
              "    <tr>\n",
              "      <th>min</th>\n",
              "      <td>7.000000</td>\n",
              "      <td>1.000000</td>\n",
              "      <td>0.000000</td>\n",
              "      <td>0.000000</td>\n",
              "      <td>0.000000</td>\n",
              "      <td>0.000000</td>\n",
              "      <td>0.000000</td>\n",
              "      <td>0.000000</td>\n",
              "      <td>0.000000</td>\n",
              "      <td>0.000000</td>\n",
              "      <td>0.000000</td>\n",
              "      <td>0.000000</td>\n",
              "      <td>0.000000</td>\n",
              "      <td>0.000000</td>\n",
              "      <td>0.000000</td>\n",
              "      <td>0.000000</td>\n",
              "      <td>0.000000</td>\n",
              "      <td>0.000000</td>\n",
              "    </tr>\n",
              "    <tr>\n",
              "      <th>25%</th>\n",
              "      <td>7.000000</td>\n",
              "      <td>8.000000</td>\n",
              "      <td>1.000000</td>\n",
              "      <td>11.000000</td>\n",
              "      <td>15.000000</td>\n",
              "      <td>14.000000</td>\n",
              "      <td>14.000000</td>\n",
              "      <td>2.000000</td>\n",
              "      <td>14.000000</td>\n",
              "      <td>14.000000</td>\n",
              "      <td>14.000000</td>\n",
              "      <td>14.000000</td>\n",
              "      <td>14.000000</td>\n",
              "      <td>14.000000</td>\n",
              "      <td>14.000000</td>\n",
              "      <td>14.000000</td>\n",
              "      <td>14.000000</td>\n",
              "      <td>14.000000</td>\n",
              "    </tr>\n",
              "    <tr>\n",
              "      <th>50%</th>\n",
              "      <td>7.000000</td>\n",
              "      <td>20.000000</td>\n",
              "      <td>2.000000</td>\n",
              "      <td>13.000000</td>\n",
              "      <td>29.000000</td>\n",
              "      <td>29.000000</td>\n",
              "      <td>22.000000</td>\n",
              "      <td>4.000000</td>\n",
              "      <td>22.000000</td>\n",
              "      <td>22.000000</td>\n",
              "      <td>22.000000</td>\n",
              "      <td>22.000000</td>\n",
              "      <td>22.000000</td>\n",
              "      <td>22.000000</td>\n",
              "      <td>22.000000</td>\n",
              "      <td>22.000000</td>\n",
              "      <td>22.000000</td>\n",
              "      <td>22.000000</td>\n",
              "    </tr>\n",
              "    <tr>\n",
              "      <th>75%</th>\n",
              "      <td>8.000000</td>\n",
              "      <td>26.000000</td>\n",
              "      <td>3.000000</td>\n",
              "      <td>15.000000</td>\n",
              "      <td>45.000000</td>\n",
              "      <td>44.000000</td>\n",
              "      <td>29.000000</td>\n",
              "      <td>6.000000</td>\n",
              "      <td>29.000000</td>\n",
              "      <td>29.000000</td>\n",
              "      <td>29.000000</td>\n",
              "      <td>29.000000</td>\n",
              "      <td>29.000000</td>\n",
              "      <td>29.000000</td>\n",
              "      <td>29.000000</td>\n",
              "      <td>29.000000</td>\n",
              "      <td>29.000000</td>\n",
              "      <td>29.000000</td>\n",
              "    </tr>\n",
              "    <tr>\n",
              "      <th>max</th>\n",
              "      <td>8.000000</td>\n",
              "      <td>31.000000</td>\n",
              "      <td>5.000000</td>\n",
              "      <td>23.000000</td>\n",
              "      <td>59.000000</td>\n",
              "      <td>59.000000</td>\n",
              "      <td>81131.000000</td>\n",
              "      <td>20.000000</td>\n",
              "      <td>81131.000000</td>\n",
              "      <td>81131.000000</td>\n",
              "      <td>81131.000000</td>\n",
              "      <td>81131.000000</td>\n",
              "      <td>81131.000000</td>\n",
              "      <td>81131.000000</td>\n",
              "      <td>81131.000000</td>\n",
              "      <td>81131.000000</td>\n",
              "      <td>81131.000000</td>\n",
              "      <td>81131.000000</td>\n",
              "    </tr>\n",
              "  </tbody>\n",
              "</table>\n",
              "</div>"
            ],
            "text/plain": [
              "             month          day          dow         hour       minute  \\\n",
              "count  6491.000000  6491.000000  6491.000000  6491.000000  6491.000000   \n",
              "mean      7.433215    17.800647     1.763057    13.162071    29.585888   \n",
              "std       0.495558     9.153106     1.285427     3.568815    17.342995   \n",
              "min       7.000000     1.000000     0.000000     0.000000     0.000000   \n",
              "25%       7.000000     8.000000     1.000000    11.000000    15.000000   \n",
              "50%       7.000000    20.000000     2.000000    13.000000    29.000000   \n",
              "75%       8.000000    26.000000     3.000000    15.000000    45.000000   \n",
              "max       8.000000    31.000000     5.000000    23.000000    59.000000   \n",
              "\n",
              "            second  this_duration  last_phases_map  last_duration_0  \\\n",
              "count  6491.000000    6491.000000      6491.000000      6491.000000   \n",
              "mean     29.318749     128.627022         5.567093       122.001232   \n",
              "std      17.307753    2177.232153         5.263321      2119.973238   \n",
              "min       0.000000       0.000000         0.000000         0.000000   \n",
              "25%      14.000000      14.000000         2.000000        14.000000   \n",
              "50%      29.000000      22.000000         4.000000        22.000000   \n",
              "75%      44.000000      29.000000         6.000000        29.000000   \n",
              "max      59.000000   81131.000000        20.000000     81131.000000   \n",
              "\n",
              "       last_duration_1  last_duration_2  last_duration_3  last_duration_4  \\\n",
              "count      6491.000000      6491.000000      6491.000000      6491.000000   \n",
              "mean        122.001541       122.001232       122.000462       122.002465   \n",
              "std        2119.973222      2119.973237      2119.973277      2119.973178   \n",
              "min           0.000000         0.000000         0.000000         0.000000   \n",
              "25%          14.000000        14.000000        14.000000        14.000000   \n",
              "50%          22.000000        22.000000        22.000000        22.000000   \n",
              "75%          29.000000        29.000000        29.000000        29.000000   \n",
              "max       81131.000000     81131.000000     81131.000000     81131.000000   \n",
              "\n",
              "       last_duration_5  last_duration_6  last_duration_7  last_duration_8  \\\n",
              "count      6491.000000      6491.000000      6491.000000      6491.000000   \n",
              "mean        122.002927       122.031736       122.031890       122.032198   \n",
              "std        2119.973155      2119.972944      2119.972936      2119.972921   \n",
              "min           0.000000         0.000000         0.000000         0.000000   \n",
              "25%          14.000000        14.000000        14.000000        14.000000   \n",
              "50%          22.000000        22.000000        22.000000        22.000000   \n",
              "75%          29.000000        29.000000        29.000000        29.000000   \n",
              "max       81131.000000     81131.000000     81131.000000     81131.000000   \n",
              "\n",
              "       last_duration_9  \n",
              "count      6491.000000  \n",
              "mean        128.192420  \n",
              "std        2176.970986  \n",
              "min           0.000000  \n",
              "25%          14.000000  \n",
              "50%          22.000000  \n",
              "75%          29.000000  \n",
              "max       81131.000000  "
            ]
          },
          "metadata": {
            "tags": []
          },
          "execution_count": 7
        }
      ]
    },
    {
      "metadata": {
        "id": "BB6Lr0aVnMr6",
        "colab_type": "code",
        "colab": {
          "base_uri": "https://localhost:8080/",
          "height": 104
        },
        "outputId": "4a8fbb27-0972-4979-8ade-6855eface62b"
      },
      "cell_type": "code",
      "source": [
        "#clip duration at 31. Reason is that 30 is longest it will be active *given* a call from other phase.\n",
        "\n",
        "df_26['this_duration'][df_26['this_duration'] >= 31.] = 31.\n",
        "\n",
        "df_26['this_duration'][df_26['this_duration'] < 5.] = 5."
      ],
      "execution_count": 8,
      "outputs": [
        {
          "output_type": "stream",
          "text": [
            "/usr/local/lib/python3.6/dist-packages/ipykernel_launcher.py:2: SettingWithCopyWarning: \n",
            "A value is trying to be set on a copy of a slice from a DataFrame\n",
            "\n",
            "See the caveats in the documentation: http://pandas.pydata.org/pandas-docs/stable/indexing.html#indexing-view-versus-copy\n",
            "  \n"
          ],
          "name": "stderr"
        }
      ]
    },
    {
      "metadata": {
        "id": "0zr6GHzFmjY4",
        "colab_type": "code",
        "colab": {
          "base_uri": "https://localhost:8080/",
          "height": 191
        },
        "outputId": "b4d8451b-2964-4738-ecad-679fa7c807ad"
      },
      "cell_type": "code",
      "source": [
        "base = 'last_duration_'\n",
        "for i in range(10):\n",
        "  df_26[base+str(i)][df_26[base+str(i)] >= 31.] = 31.  #this means need to rebuild input data\n",
        "  df_26[base+str(i)][df_26[base+str(i)] < 5.] = 5.  #this means need to rebuild input data"
      ],
      "execution_count": 10,
      "outputs": [
        {
          "output_type": "stream",
          "text": [
            "/usr/local/lib/python3.6/dist-packages/ipykernel_launcher.py:3: SettingWithCopyWarning: \n",
            "A value is trying to be set on a copy of a slice from a DataFrame\n",
            "\n",
            "See the caveats in the documentation: http://pandas.pydata.org/pandas-docs/stable/indexing.html#indexing-view-versus-copy\n",
            "  This is separate from the ipykernel package so we can avoid doing imports until\n",
            "/usr/local/lib/python3.6/dist-packages/ipykernel_launcher.py:4: SettingWithCopyWarning: \n",
            "A value is trying to be set on a copy of a slice from a DataFrame\n",
            "\n",
            "See the caveats in the documentation: http://pandas.pydata.org/pandas-docs/stable/indexing.html#indexing-view-versus-copy\n",
            "  after removing the cwd from sys.path.\n"
          ],
          "name": "stderr"
        }
      ]
    },
    {
      "metadata": {
        "id": "CxToLbMbnFws",
        "colab_type": "code",
        "colab": {
          "base_uri": "https://localhost:8080/",
          "height": 314
        },
        "outputId": "fe778ddd-f4ee-4cd4-f474-d8ce3c75c3d3"
      },
      "cell_type": "code",
      "source": [
        "df_26.describe()"
      ],
      "execution_count": 11,
      "outputs": [
        {
          "output_type": "execute_result",
          "data": {
            "text/html": [
              "<div>\n",
              "<style scoped>\n",
              "    .dataframe tbody tr th:only-of-type {\n",
              "        vertical-align: middle;\n",
              "    }\n",
              "\n",
              "    .dataframe tbody tr th {\n",
              "        vertical-align: top;\n",
              "    }\n",
              "\n",
              "    .dataframe thead th {\n",
              "        text-align: right;\n",
              "    }\n",
              "</style>\n",
              "<table border=\"1\" class=\"dataframe\">\n",
              "  <thead>\n",
              "    <tr style=\"text-align: right;\">\n",
              "      <th></th>\n",
              "      <th>month</th>\n",
              "      <th>day</th>\n",
              "      <th>dow</th>\n",
              "      <th>hour</th>\n",
              "      <th>minute</th>\n",
              "      <th>second</th>\n",
              "      <th>this_duration</th>\n",
              "      <th>last_phases_map</th>\n",
              "      <th>last_duration_0</th>\n",
              "      <th>last_duration_1</th>\n",
              "      <th>last_duration_2</th>\n",
              "      <th>last_duration_3</th>\n",
              "      <th>last_duration_4</th>\n",
              "      <th>last_duration_5</th>\n",
              "      <th>last_duration_6</th>\n",
              "      <th>last_duration_7</th>\n",
              "      <th>last_duration_8</th>\n",
              "      <th>last_duration_9</th>\n",
              "    </tr>\n",
              "  </thead>\n",
              "  <tbody>\n",
              "    <tr>\n",
              "      <th>count</th>\n",
              "      <td>6491.000000</td>\n",
              "      <td>6491.000000</td>\n",
              "      <td>6491.000000</td>\n",
              "      <td>6491.000000</td>\n",
              "      <td>6491.000000</td>\n",
              "      <td>6491.000000</td>\n",
              "      <td>6491.000000</td>\n",
              "      <td>6491.000000</td>\n",
              "      <td>6491.000000</td>\n",
              "      <td>6491.000000</td>\n",
              "      <td>6491.000000</td>\n",
              "      <td>6491.000000</td>\n",
              "      <td>6491.000000</td>\n",
              "      <td>6491.000000</td>\n",
              "      <td>6491.000000</td>\n",
              "      <td>6491.000000</td>\n",
              "      <td>6491.000000</td>\n",
              "      <td>6491.000000</td>\n",
              "    </tr>\n",
              "    <tr>\n",
              "      <th>mean</th>\n",
              "      <td>7.433215</td>\n",
              "      <td>17.800647</td>\n",
              "      <td>1.763057</td>\n",
              "      <td>13.162071</td>\n",
              "      <td>29.585888</td>\n",
              "      <td>29.318749</td>\n",
              "      <td>21.008935</td>\n",
              "      <td>5.567093</td>\n",
              "      <td>20.999692</td>\n",
              "      <td>21.000000</td>\n",
              "      <td>20.999692</td>\n",
              "      <td>20.998922</td>\n",
              "      <td>21.000924</td>\n",
              "      <td>21.001387</td>\n",
              "      <td>21.004160</td>\n",
              "      <td>21.004314</td>\n",
              "      <td>21.004622</td>\n",
              "      <td>21.008165</td>\n",
              "    </tr>\n",
              "    <tr>\n",
              "      <th>std</th>\n",
              "      <td>0.495558</td>\n",
              "      <td>9.153106</td>\n",
              "      <td>1.285427</td>\n",
              "      <td>3.568815</td>\n",
              "      <td>17.342995</td>\n",
              "      <td>17.307753</td>\n",
              "      <td>7.925787</td>\n",
              "      <td>5.263321</td>\n",
              "      <td>7.926084</td>\n",
              "      <td>7.925889</td>\n",
              "      <td>7.925889</td>\n",
              "      <td>7.926910</td>\n",
              "      <td>7.925773</td>\n",
              "      <td>7.925627</td>\n",
              "      <td>7.925976</td>\n",
              "      <td>7.925772</td>\n",
              "      <td>7.925733</td>\n",
              "      <td>7.925059</td>\n",
              "    </tr>\n",
              "    <tr>\n",
              "      <th>min</th>\n",
              "      <td>7.000000</td>\n",
              "      <td>1.000000</td>\n",
              "      <td>0.000000</td>\n",
              "      <td>0.000000</td>\n",
              "      <td>0.000000</td>\n",
              "      <td>0.000000</td>\n",
              "      <td>5.000000</td>\n",
              "      <td>0.000000</td>\n",
              "      <td>5.000000</td>\n",
              "      <td>5.000000</td>\n",
              "      <td>5.000000</td>\n",
              "      <td>5.000000</td>\n",
              "      <td>5.000000</td>\n",
              "      <td>5.000000</td>\n",
              "      <td>5.000000</td>\n",
              "      <td>5.000000</td>\n",
              "      <td>5.000000</td>\n",
              "      <td>5.000000</td>\n",
              "    </tr>\n",
              "    <tr>\n",
              "      <th>25%</th>\n",
              "      <td>7.000000</td>\n",
              "      <td>8.000000</td>\n",
              "      <td>1.000000</td>\n",
              "      <td>11.000000</td>\n",
              "      <td>15.000000</td>\n",
              "      <td>14.000000</td>\n",
              "      <td>14.000000</td>\n",
              "      <td>2.000000</td>\n",
              "      <td>14.000000</td>\n",
              "      <td>14.000000</td>\n",
              "      <td>14.000000</td>\n",
              "      <td>14.000000</td>\n",
              "      <td>14.000000</td>\n",
              "      <td>14.000000</td>\n",
              "      <td>14.000000</td>\n",
              "      <td>14.000000</td>\n",
              "      <td>14.000000</td>\n",
              "      <td>14.000000</td>\n",
              "    </tr>\n",
              "    <tr>\n",
              "      <th>50%</th>\n",
              "      <td>7.000000</td>\n",
              "      <td>20.000000</td>\n",
              "      <td>2.000000</td>\n",
              "      <td>13.000000</td>\n",
              "      <td>29.000000</td>\n",
              "      <td>29.000000</td>\n",
              "      <td>22.000000</td>\n",
              "      <td>4.000000</td>\n",
              "      <td>22.000000</td>\n",
              "      <td>22.000000</td>\n",
              "      <td>22.000000</td>\n",
              "      <td>22.000000</td>\n",
              "      <td>22.000000</td>\n",
              "      <td>22.000000</td>\n",
              "      <td>22.000000</td>\n",
              "      <td>22.000000</td>\n",
              "      <td>22.000000</td>\n",
              "      <td>22.000000</td>\n",
              "    </tr>\n",
              "    <tr>\n",
              "      <th>75%</th>\n",
              "      <td>8.000000</td>\n",
              "      <td>26.000000</td>\n",
              "      <td>3.000000</td>\n",
              "      <td>15.000000</td>\n",
              "      <td>45.000000</td>\n",
              "      <td>44.000000</td>\n",
              "      <td>29.000000</td>\n",
              "      <td>6.000000</td>\n",
              "      <td>29.000000</td>\n",
              "      <td>29.000000</td>\n",
              "      <td>29.000000</td>\n",
              "      <td>29.000000</td>\n",
              "      <td>29.000000</td>\n",
              "      <td>29.000000</td>\n",
              "      <td>29.000000</td>\n",
              "      <td>29.000000</td>\n",
              "      <td>29.000000</td>\n",
              "      <td>29.000000</td>\n",
              "    </tr>\n",
              "    <tr>\n",
              "      <th>max</th>\n",
              "      <td>8.000000</td>\n",
              "      <td>31.000000</td>\n",
              "      <td>5.000000</td>\n",
              "      <td>23.000000</td>\n",
              "      <td>59.000000</td>\n",
              "      <td>59.000000</td>\n",
              "      <td>31.000000</td>\n",
              "      <td>20.000000</td>\n",
              "      <td>31.000000</td>\n",
              "      <td>31.000000</td>\n",
              "      <td>31.000000</td>\n",
              "      <td>31.000000</td>\n",
              "      <td>31.000000</td>\n",
              "      <td>31.000000</td>\n",
              "      <td>31.000000</td>\n",
              "      <td>31.000000</td>\n",
              "      <td>31.000000</td>\n",
              "      <td>31.000000</td>\n",
              "    </tr>\n",
              "  </tbody>\n",
              "</table>\n",
              "</div>"
            ],
            "text/plain": [
              "             month          day          dow         hour       minute  \\\n",
              "count  6491.000000  6491.000000  6491.000000  6491.000000  6491.000000   \n",
              "mean      7.433215    17.800647     1.763057    13.162071    29.585888   \n",
              "std       0.495558     9.153106     1.285427     3.568815    17.342995   \n",
              "min       7.000000     1.000000     0.000000     0.000000     0.000000   \n",
              "25%       7.000000     8.000000     1.000000    11.000000    15.000000   \n",
              "50%       7.000000    20.000000     2.000000    13.000000    29.000000   \n",
              "75%       8.000000    26.000000     3.000000    15.000000    45.000000   \n",
              "max       8.000000    31.000000     5.000000    23.000000    59.000000   \n",
              "\n",
              "            second  this_duration  last_phases_map  last_duration_0  \\\n",
              "count  6491.000000    6491.000000      6491.000000      6491.000000   \n",
              "mean     29.318749      21.008935         5.567093        20.999692   \n",
              "std      17.307753       7.925787         5.263321         7.926084   \n",
              "min       0.000000       5.000000         0.000000         5.000000   \n",
              "25%      14.000000      14.000000         2.000000        14.000000   \n",
              "50%      29.000000      22.000000         4.000000        22.000000   \n",
              "75%      44.000000      29.000000         6.000000        29.000000   \n",
              "max      59.000000      31.000000        20.000000        31.000000   \n",
              "\n",
              "       last_duration_1  last_duration_2  last_duration_3  last_duration_4  \\\n",
              "count      6491.000000      6491.000000      6491.000000      6491.000000   \n",
              "mean         21.000000        20.999692        20.998922        21.000924   \n",
              "std           7.925889         7.925889         7.926910         7.925773   \n",
              "min           5.000000         5.000000         5.000000         5.000000   \n",
              "25%          14.000000        14.000000        14.000000        14.000000   \n",
              "50%          22.000000        22.000000        22.000000        22.000000   \n",
              "75%          29.000000        29.000000        29.000000        29.000000   \n",
              "max          31.000000        31.000000        31.000000        31.000000   \n",
              "\n",
              "       last_duration_5  last_duration_6  last_duration_7  last_duration_8  \\\n",
              "count      6491.000000      6491.000000      6491.000000      6491.000000   \n",
              "mean         21.001387        21.004160        21.004314        21.004622   \n",
              "std           7.925627         7.925976         7.925772         7.925733   \n",
              "min           5.000000         5.000000         5.000000         5.000000   \n",
              "25%          14.000000        14.000000        14.000000        14.000000   \n",
              "50%          22.000000        22.000000        22.000000        22.000000   \n",
              "75%          29.000000        29.000000        29.000000        29.000000   \n",
              "max          31.000000        31.000000        31.000000        31.000000   \n",
              "\n",
              "       last_duration_9  \n",
              "count      6491.000000  \n",
              "mean         21.008165  \n",
              "std           7.925059  \n",
              "min           5.000000  \n",
              "25%          14.000000  \n",
              "50%          22.000000  \n",
              "75%          29.000000  \n",
              "max          31.000000  "
            ]
          },
          "metadata": {
            "tags": []
          },
          "execution_count": 11
        }
      ]
    },
    {
      "metadata": {
        "id": "f33hb3SGrR8B",
        "colab_type": "code",
        "colab": {}
      },
      "cell_type": "code",
      "source": [
        "import numpy as np\n",
        "\n",
        "def get_train_test_inds(y,train_proportion=0.7):\n",
        "    '''Generates indices, making random stratified split into training set and testing sets\n",
        "    with proportions train_proportion and (1-train_proportion) of initial sample.\n",
        "    y is any iterable indicating classes of each observation in the sample.\n",
        "    Initial proportions of classes inside training and \n",
        "    testing sets are preserved (stratified sampling).\n",
        "    '''\n",
        "\n",
        "    y=np.array(y)\n",
        "    train_inds = np.zeros(len(y),dtype=bool)\n",
        "    test_inds = np.zeros(len(y),dtype=bool)\n",
        "    values = np.unique(y)\n",
        "    for value in values:\n",
        "        value_inds = np.nonzero(y==value)[0]\n",
        "        np.random.shuffle(value_inds)\n",
        "        n = int(train_proportion*len(value_inds))\n",
        "\n",
        "        train_inds[value_inds[:n]]=True\n",
        "        test_inds[value_inds[n:]]=True\n",
        "\n",
        "    return train_inds,test_inds\n",
        "  \n",
        "#df[train_inds] and df[test_inds] give you the training and testing sets of your original DataFrame df."
      ],
      "execution_count": 0,
      "outputs": []
    },
    {
      "metadata": {
        "id": "Vt3v-La2rtML",
        "colab_type": "code",
        "colab": {}
      },
      "cell_type": "code",
      "source": [
        "#y = df_26.pop('this_duration')\n",
        "\n",
        "train_indices, test_indices = get_train_test_inds(df_26['this_duration'],train_proportion=0.7)"
      ],
      "execution_count": 0,
      "outputs": []
    },
    {
      "metadata": {
        "id": "2502a7cWsOms",
        "colab_type": "code",
        "colab": {
          "base_uri": "https://localhost:8080/",
          "height": 52
        },
        "outputId": "366adffb-fe54-4d20-9a8f-ed02005ae057"
      },
      "cell_type": "code",
      "source": [
        "train_indices[:10]"
      ],
      "execution_count": 14,
      "outputs": [
        {
          "output_type": "execute_result",
          "data": {
            "text/plain": [
              "array([ True,  True,  True,  True, False, False,  True, False,  True,\n",
              "        True])"
            ]
          },
          "metadata": {
            "tags": []
          },
          "execution_count": 14
        }
      ]
    },
    {
      "metadata": {
        "id": "ud8Pxg5hsYAO",
        "colab_type": "code",
        "colab": {
          "base_uri": "https://localhost:8080/",
          "height": 52
        },
        "outputId": "0fda02fb-9abf-42e0-e426-191862a0d95d"
      },
      "cell_type": "code",
      "source": [
        "test_indices[:10]"
      ],
      "execution_count": 15,
      "outputs": [
        {
          "output_type": "execute_result",
          "data": {
            "text/plain": [
              "array([False, False, False, False,  True,  True, False,  True, False,\n",
              "       False])"
            ]
          },
          "metadata": {
            "tags": []
          },
          "execution_count": 15
        }
      ]
    },
    {
      "metadata": {
        "id": "zk5qTWfXvAkh",
        "colab_type": "code",
        "colab": {}
      },
      "cell_type": "code",
      "source": [
        "df_26_train = df_26[train_indices]"
      ],
      "execution_count": 0,
      "outputs": []
    },
    {
      "metadata": {
        "id": "s5vNabnJvKln",
        "colab_type": "code",
        "colab": {}
      },
      "cell_type": "code",
      "source": [
        "df_26_test = df_26[test_indices]"
      ],
      "execution_count": 0,
      "outputs": []
    },
    {
      "metadata": {
        "id": "RZkIO1bmnz6F",
        "colab_type": "code",
        "colab": {}
      },
      "cell_type": "code",
      "source": [
        "'''\n",
        "from sklearn.model_selection import train_test_split \n",
        "\n",
        "\n",
        "y = df_26.pop('this_duration')\n",
        "X = df_26\n",
        "\n",
        "X_train,X_test,y_train,y_test = train_test_split(X.index,y,test_size=0.25)\n",
        "\n",
        "df_X = X.iloc[X_train] # return dataframe train\n",
        "'''"
      ],
      "execution_count": 0,
      "outputs": []
    },
    {
      "metadata": {
        "id": "1ZjcGe--Eky_",
        "colab_type": "code",
        "colab": {}
      },
      "cell_type": "code",
      "source": [
        "train_target = df_26_train['this_duration'].values"
      ],
      "execution_count": 0,
      "outputs": []
    },
    {
      "metadata": {
        "id": "xImK3FMNFTQP",
        "colab_type": "code",
        "colab": {
          "base_uri": "https://localhost:8080/",
          "height": 35
        },
        "outputId": "886dfe07-c4d0-4b0e-a4e3-c6e145cb46b0"
      },
      "cell_type": "code",
      "source": [
        "train_target.shape"
      ],
      "execution_count": 19,
      "outputs": [
        {
          "output_type": "execute_result",
          "data": {
            "text/plain": [
              "(4532,)"
            ]
          },
          "metadata": {
            "tags": []
          },
          "execution_count": 19
        }
      ]
    },
    {
      "metadata": {
        "id": "KEgaISx2Fb3A",
        "colab_type": "code",
        "colab": {}
      },
      "cell_type": "code",
      "source": [
        "df_26_train = df_26_train.drop('this_duration', axis=1)"
      ],
      "execution_count": 0,
      "outputs": []
    },
    {
      "metadata": {
        "id": "ljGCRbSxv66S",
        "colab_type": "code",
        "colab": {}
      },
      "cell_type": "code",
      "source": [
        "df_26_train = df_26_train.drop(['last_phases',\t'last_26_durations'], axis=1)"
      ],
      "execution_count": 0,
      "outputs": []
    },
    {
      "metadata": {
        "id": "-aBcnfNfwSoI",
        "colab_type": "code",
        "colab": {
          "base_uri": "https://localhost:8080/",
          "height": 99
        },
        "outputId": "82302936-6f4a-4515-a774-7eaaa2390bc8"
      },
      "cell_type": "code",
      "source": [
        "df_26_train.head(1)"
      ],
      "execution_count": 22,
      "outputs": [
        {
          "output_type": "execute_result",
          "data": {
            "text/html": [
              "<div>\n",
              "<style scoped>\n",
              "    .dataframe tbody tr th:only-of-type {\n",
              "        vertical-align: middle;\n",
              "    }\n",
              "\n",
              "    .dataframe tbody tr th {\n",
              "        vertical-align: top;\n",
              "    }\n",
              "\n",
              "    .dataframe thead th {\n",
              "        text-align: right;\n",
              "    }\n",
              "</style>\n",
              "<table border=\"1\" class=\"dataframe\">\n",
              "  <thead>\n",
              "    <tr style=\"text-align: right;\">\n",
              "      <th></th>\n",
              "      <th>month</th>\n",
              "      <th>day</th>\n",
              "      <th>dow</th>\n",
              "      <th>hour</th>\n",
              "      <th>minute</th>\n",
              "      <th>second</th>\n",
              "      <th>last_phases_map</th>\n",
              "      <th>last_duration_0</th>\n",
              "      <th>last_duration_1</th>\n",
              "      <th>last_duration_2</th>\n",
              "      <th>last_duration_3</th>\n",
              "      <th>last_duration_4</th>\n",
              "      <th>last_duration_5</th>\n",
              "      <th>last_duration_6</th>\n",
              "      <th>last_duration_7</th>\n",
              "      <th>last_duration_8</th>\n",
              "      <th>last_duration_9</th>\n",
              "    </tr>\n",
              "  </thead>\n",
              "  <tbody>\n",
              "    <tr>\n",
              "      <th>0</th>\n",
              "      <td>7</td>\n",
              "      <td>19</td>\n",
              "      <td>3</td>\n",
              "      <td>14</td>\n",
              "      <td>41</td>\n",
              "      <td>41</td>\n",
              "      <td>6.0</td>\n",
              "      <td>15.0</td>\n",
              "      <td>22.0</td>\n",
              "      <td>13.0</td>\n",
              "      <td>10.0</td>\n",
              "      <td>17.0</td>\n",
              "      <td>13.0</td>\n",
              "      <td>10.0</td>\n",
              "      <td>19.0</td>\n",
              "      <td>8.0</td>\n",
              "      <td>26.0</td>\n",
              "    </tr>\n",
              "  </tbody>\n",
              "</table>\n",
              "</div>"
            ],
            "text/plain": [
              "   month  day  dow  hour  minute  second  last_phases_map  last_duration_0  \\\n",
              "0      7   19    3    14      41      41              6.0             15.0   \n",
              "\n",
              "   last_duration_1  last_duration_2  last_duration_3  last_duration_4  \\\n",
              "0             22.0             13.0             10.0             17.0   \n",
              "\n",
              "   last_duration_5  last_duration_6  last_duration_7  last_duration_8  \\\n",
              "0             13.0             10.0             19.0              8.0   \n",
              "\n",
              "   last_duration_9  \n",
              "0             26.0  "
            ]
          },
          "metadata": {
            "tags": []
          },
          "execution_count": 22
        }
      ]
    },
    {
      "metadata": {
        "id": "yLVOJ7YWFu-h",
        "colab_type": "code",
        "colab": {}
      },
      "cell_type": "code",
      "source": [
        "train_input = df_26_train.values"
      ],
      "execution_count": 0,
      "outputs": []
    },
    {
      "metadata": {
        "id": "3JA-8aA3F8IB",
        "colab_type": "code",
        "colab": {
          "base_uri": "https://localhost:8080/",
          "height": 35
        },
        "outputId": "2615542a-566a-4326-b031-345eee6a62f9"
      },
      "cell_type": "code",
      "source": [
        "train_input.shape"
      ],
      "execution_count": 24,
      "outputs": [
        {
          "output_type": "execute_result",
          "data": {
            "text/plain": [
              "(4532, 17)"
            ]
          },
          "metadata": {
            "tags": []
          },
          "execution_count": 24
        }
      ]
    },
    {
      "metadata": {
        "id": "W2aqX8K8GMdo",
        "colab_type": "code",
        "colab": {}
      },
      "cell_type": "code",
      "source": [
        "test_target = df_26_test['this_duration'].values"
      ],
      "execution_count": 0,
      "outputs": []
    },
    {
      "metadata": {
        "id": "Y-_6B_VvwqIR",
        "colab_type": "code",
        "colab": {}
      },
      "cell_type": "code",
      "source": [
        "df_26_test = df_26_test.drop(['this_duration','last_phases',\t'last_26_durations'], axis=1)"
      ],
      "execution_count": 0,
      "outputs": []
    },
    {
      "metadata": {
        "id": "G3Av3P9PGfMu",
        "colab_type": "code",
        "colab": {}
      },
      "cell_type": "code",
      "source": [
        "test_input = df_26_test.values"
      ],
      "execution_count": 0,
      "outputs": []
    },
    {
      "metadata": {
        "id": "d2mu6nJGzW7j",
        "colab_type": "text"
      },
      "cell_type": "markdown",
      "source": [
        "<hr>\n",
        "```\n",
        "#for each feature, take mean, subtract mean to get a mean of 0, then divide by std to get std of 1\n",
        "#numpy makes it easy to map these operations across all features.\n",
        "\n",
        "\n",
        "mean = train_data.mean(axis=0)\n",
        "train_data -= mean\n",
        "std = train_data.std(axis=0)\n",
        "train_data /= std\n",
        "\n",
        "test_data -= mean\n",
        "test_data /= std\n",
        "\n",
        "print(train_data[:10])\n",
        "print(test_data[:10])\n",
        "```\n",
        "<hr>"
      ]
    },
    {
      "metadata": {
        "id": "zNIhU6zxH1Ri",
        "colab_type": "code",
        "colab": {
          "base_uri": "https://localhost:8080/",
          "height": 69
        },
        "outputId": "931afbea-4847-494a-d5c9-5fd1a01921e0"
      },
      "cell_type": "code",
      "source": [
        "print(train_input[0][:10])\n",
        "mean = train_input.mean(axis=0)\n",
        "train_input -= mean\n",
        "print(train_input[0][:10])"
      ],
      "execution_count": 28,
      "outputs": [
        {
          "output_type": "stream",
          "text": [
            "[ 7. 19.  3. 14. 41. 41.  6. 15. 22. 13.]\n",
            "[-0.4298323   1.14982348  1.23654016  0.79148279 11.59863195 11.80538394\n",
            "  0.38812886 -6.03420124  1.04435128 -8.07369815]\n"
          ],
          "name": "stdout"
        }
      ]
    },
    {
      "metadata": {
        "id": "kukTCCeCIUoP",
        "colab_type": "code",
        "colab": {
          "base_uri": "https://localhost:8080/",
          "height": 52
        },
        "outputId": "df2c9348-d862-447f-de1d-f408493b8923"
      },
      "cell_type": "code",
      "source": [
        "std = train_input.std(axis=0)\n",
        "train_input /= std\n",
        "print(train_input[0][:10])"
      ],
      "execution_count": 29,
      "outputs": [
        {
          "output_type": "stream",
          "text": [
            "[-0.86825686  0.12576409  0.9568642   0.22683164  0.67256212  0.68818992\n",
            "  0.07352224 -0.75903231  0.13207222 -1.02167422]\n"
          ],
          "name": "stdout"
        }
      ]
    },
    {
      "metadata": {
        "id": "KEQBMc8VIvUR",
        "colab_type": "code",
        "colab": {
          "base_uri": "https://localhost:8080/",
          "height": 87
        },
        "outputId": "9ffd88f6-9a07-4ec4-8464-bec661254491"
      },
      "cell_type": "code",
      "source": [
        "std"
      ],
      "execution_count": 30,
      "outputs": [
        {
          "output_type": "execute_result",
          "data": {
            "text/plain": [
              "array([ 0.49505201,  9.14270106,  1.29228385,  3.48929618, 17.24544346,\n",
              "       17.15425286,  5.27906742,  7.94986079,  7.90742561,  7.90241934,\n",
              "        7.89845532,  7.93991885,  7.91865409,  7.90726132,  7.90519862,\n",
              "        7.89290396,  7.87302894])"
            ]
          },
          "metadata": {
            "tags": []
          },
          "execution_count": 30
        }
      ]
    },
    {
      "metadata": {
        "id": "FKEeQrmsMAYv",
        "colab_type": "code",
        "colab": {
          "base_uri": "https://localhost:8080/",
          "height": 69
        },
        "outputId": "4cddbe14-8397-4d95-f41e-8f2697cf4156"
      },
      "cell_type": "code",
      "source": [
        "print(test_input[0][:10])\n",
        "mean = test_input.mean(axis=0)\n",
        "test_input -= mean\n",
        "print(test_input[0][:10])"
      ],
      "execution_count": 31,
      "outputs": [
        {
          "output_type": "stream",
          "text": [
            "[ 7. 19.  3. 14. 43. 50.  1. 17. 13. 10.]\n",
            "[ -0.44104135   1.31393568   1.23787647   0.9453803   12.98723839\n",
            "  20.39407861  -4.46350179  -3.91985707  -8.10260337 -10.82848392]\n"
          ],
          "name": "stdout"
        }
      ]
    },
    {
      "metadata": {
        "id": "KjFVWnA1MMMo",
        "colab_type": "code",
        "colab": {
          "base_uri": "https://localhost:8080/",
          "height": 52
        },
        "outputId": "e5fa0a76-7618-4ab6-ddd9-bc7bb4ca9a6d"
      },
      "cell_type": "code",
      "source": [
        "std = test_input.std(axis=0)\n",
        "test_input /= std\n",
        "print(test_input[0][:10])"
      ],
      "execution_count": 32,
      "outputs": [
        {
          "output_type": "stream",
          "text": [
            "[-0.88827985  0.14322732  0.97540404  0.25255692  0.73981143  1.15546696\n",
            " -0.85444074 -0.49819078 -1.01721455 -1.35775597]\n"
          ],
          "name": "stdout"
        }
      ]
    },
    {
      "metadata": {
        "id": "SRG3Jvb938IM",
        "colab_type": "code",
        "colab": {
          "base_uri": "https://localhost:8080/",
          "height": 225
        },
        "outputId": "738cd310-8759-44d5-8d5d-15042156c239"
      },
      "cell_type": "code",
      "source": [
        "train_input[:3]"
      ],
      "execution_count": 33,
      "outputs": [
        {
          "output_type": "execute_result",
          "data": {
            "text/plain": [
              "array([[-0.86825686,  0.12576409,  0.9568642 ,  0.22683164,  0.67256212,\n",
              "         0.68818992,  0.07352224, -0.75903231,  0.13207222, -1.02167422,\n",
              "        -1.39815287, -0.51059212, -1.00263769, -1.37522048, -0.26248829,\n",
              "        -1.64869845,  0.64572965],\n",
              "       [-0.86825686,  0.12576409,  0.9568642 ,  0.22683164,  0.73054845,\n",
              "        -0.59429088,  2.5360784 ,  0.12148625, -1.00609846, -1.4013048 ,\n",
              "        -0.51190364, -1.01437561, -1.38148995, -0.23702615, -1.65397768,\n",
              "         0.63183101, -1.38652505],\n",
              "       [-0.86825686,  0.12576409,  0.9568642 ,  0.22683164,  0.73054845,\n",
              "         1.67919782,  0.07352224, -1.01060905, -1.38548869, -0.51550012,\n",
              "        -1.01833177, -1.39221322, -0.24493317, -1.62815256,  0.62300496,\n",
              "        -1.39530629, -1.38652505]])"
            ]
          },
          "metadata": {
            "tags": []
          },
          "execution_count": 33
        }
      ]
    },
    {
      "metadata": {
        "id": "31Fpllvo0M9q",
        "colab_type": "code",
        "colab": {
          "base_uri": "https://localhost:8080/",
          "height": 35
        },
        "outputId": "c78bf887-bf02-4a01-e962-026cc36c61dc"
      },
      "cell_type": "code",
      "source": [
        "from keras import models\n",
        "from keras import layers\n",
        "\n",
        "def build_model():\n",
        "    model = models.Sequential()\n",
        "    model.add(layers.Dense(64, activation='relu',\n",
        "                           input_shape=(train_input.shape[1],)))\n",
        "    model.add(layers.Dense(64, activation='relu'))\n",
        "    model.add(layers.Dense(1))\n",
        "    model.compile(optimizer='rmsprop', loss='mse', metrics=['mae'])\n",
        "    return model\n"
      ],
      "execution_count": 34,
      "outputs": [
        {
          "output_type": "stream",
          "text": [
            "Using TensorFlow backend.\n"
          ],
          "name": "stderr"
        }
      ]
    },
    {
      "metadata": {
        "id": "cUw3Xh4b0ZN6",
        "colab_type": "code",
        "colab": {
          "base_uri": "https://localhost:8080/",
          "height": 35
        },
        "outputId": "c3006d20-d127-4887-a2be-1d42003be214"
      },
      "cell_type": "code",
      "source": [
        "#k-fold on training\n",
        "\n",
        "k = 4\n",
        "num_val_samples = len(train_input) // k\n",
        "num_epochs = 100\n",
        "all_scores = []\n",
        "for i in range(k):\n",
        "    print('processing fold #', i)\n",
        "    val_data = train_input[i * num_val_samples: (i + 1) * num_val_samples]\n",
        "    val_targets = train_target[i * num_val_samples: (i + 1) * num_val_samples]\n",
        "\n",
        "    partial_train_data = np.concatenate(\n",
        "        [train_input[:i * num_val_samples],\n",
        "         train_input[(i + 1) * num_val_samples:]],\n",
        "        axis=0)\n",
        "    partial_train_targets = np.concatenate(\n",
        "        [train_target[:i * num_val_samples],\n",
        "         train_target[(i + 1) * num_val_samples:]],\n",
        "        axis=0)\n",
        "\n",
        "    model = build_model()\n",
        "    model.fit(partial_train_data, partial_train_targets,\n",
        "              epochs=num_epochs, batch_size=1, verbose=0)\n",
        "    val_mse, val_mae = model.evaluate(val_data, val_targets, verbose=0)\n",
        "    all_scores.append(val_mae)\n"
      ],
      "execution_count": 0,
      "outputs": [
        {
          "output_type": "stream",
          "text": [
            "processing fold # 0\n"
          ],
          "name": "stdout"
        }
      ]
    },
    {
      "metadata": {
        "id": "iTbrA1Mc1TWK",
        "colab_type": "code",
        "colab": {
          "base_uri": "https://localhost:8080/",
          "height": 35
        },
        "outputId": "2bf81ab4-4a38-4319-bc95-5c8c1a217568"
      },
      "cell_type": "code",
      "source": [
        "all_scores\n",
        "#[2.588258957792037, 3.1289568449719116, 3.1856116051248984, 3.0763342615401386]\n"
      ],
      "execution_count": 34,
      "outputs": [
        {
          "output_type": "execute_result",
          "data": {
            "text/plain": [
              "[10.883906271605365, 11.408363116103992, 9.96682024424055, 12.423224332691294]"
            ]
          },
          "metadata": {
            "tags": []
          },
          "execution_count": 34
        }
      ]
    },
    {
      "metadata": {
        "id": "6G1wachj1aUN",
        "colab_type": "code",
        "colab": {
          "base_uri": "https://localhost:8080/",
          "height": 35
        },
        "outputId": "2de8f36e-9663-42e7-db82-05e2ac79cabf"
      },
      "cell_type": "code",
      "source": [
        "np.mean(all_scores)\n",
        "#2.9947904173572462"
      ],
      "execution_count": 35,
      "outputs": [
        {
          "output_type": "execute_result",
          "data": {
            "text/plain": [
              "11.170578491160299"
            ]
          },
          "metadata": {
            "tags": []
          },
          "execution_count": 35
        }
      ]
    },
    {
      "metadata": {
        "id": "IPl6X5rgAIhI",
        "colab_type": "code",
        "colab": {}
      },
      "cell_type": "code",
      "source": [
        "#now build with full training and save\n",
        "model_full = build_model()\n",
        "history_full = model_full.fit(train_input, train_target,\n",
        "          epochs=100, batch_size=1, verbose=0)\n"
      ],
      "execution_count": 0,
      "outputs": []
    },
    {
      "metadata": {
        "id": "k6ME-W-fJ2nL",
        "colab_type": "code",
        "colab": {}
      },
      "cell_type": "code",
      "source": [
        "mae_history = history_full.history['mean_absolute_error']  #mae for each epoch"
      ],
      "execution_count": 0,
      "outputs": []
    },
    {
      "metadata": {
        "id": "ZyEDOp87Kn0K",
        "colab_type": "code",
        "colab": {
          "base_uri": "https://localhost:8080/",
          "height": 35
        },
        "outputId": "17f3b1ae-fe00-4343-b578-8fef6aee4042"
      },
      "cell_type": "code",
      "source": [
        "mae_history.index(min(mae_history))"
      ],
      "execution_count": 52,
      "outputs": [
        {
          "output_type": "execute_result",
          "data": {
            "text/plain": [
              "99"
            ]
          },
          "metadata": {
            "tags": []
          },
          "execution_count": 52
        }
      ]
    },
    {
      "metadata": {
        "id": "J097zKp-Lctz",
        "colab_type": "code",
        "colab": {
          "base_uri": "https://localhost:8080/",
          "height": 191
        },
        "outputId": "c81afabb-aa1b-4e0f-c0ec-462660a888c7"
      },
      "cell_type": "code",
      "source": [
        "mae_history[90:110]  #looks like it was continuing to go down at epoch 99 - try larger epoch to see if continues"
      ],
      "execution_count": 53,
      "outputs": [
        {
          "output_type": "execute_result",
          "data": {
            "text/plain": [
              "[7.4423295246816314,\n",
              " 7.375914681168784,\n",
              " 7.435148563954683,\n",
              " 7.397457804300089,\n",
              " 7.409299552335148,\n",
              " 7.364605189002721,\n",
              " 7.361458156383143,\n",
              " 7.322249779659035,\n",
              " 7.302200444820708,\n",
              " 7.287839438640966]"
            ]
          },
          "metadata": {
            "tags": []
          },
          "execution_count": 53
        }
      ]
    },
    {
      "metadata": {
        "id": "rwvdwcKnDybY",
        "colab_type": "code",
        "colab": {}
      },
      "cell_type": "code",
      "source": [
        "val_mse, val_mae = model_full.evaluate(train_input, train_target, verbose=0)"
      ],
      "execution_count": 0,
      "outputs": []
    },
    {
      "metadata": {
        "id": "WpVYbVslFE8Q",
        "colab_type": "code",
        "colab": {
          "base_uri": "https://localhost:8080/",
          "height": 35
        },
        "outputId": "427452ca-f3e6-4a01-cd03-54696e39e197"
      },
      "cell_type": "code",
      "source": [
        "val_mae"
      ],
      "execution_count": 39,
      "outputs": [
        {
          "output_type": "execute_result",
          "data": {
            "text/plain": [
              "7.257545872916163"
            ]
          },
          "metadata": {
            "tags": []
          },
          "execution_count": 39
        }
      ]
    },
    {
      "metadata": {
        "id": "IIwrhkkQGBov",
        "colab_type": "code",
        "colab": {}
      },
      "cell_type": "code",
      "source": [
        "tval_mse, tval_mae = model_full.evaluate(test_input, test_target, verbose=0)"
      ],
      "execution_count": 0,
      "outputs": []
    },
    {
      "metadata": {
        "id": "oKHFHXfLGJLs",
        "colab_type": "code",
        "colab": {
          "base_uri": "https://localhost:8080/",
          "height": 35
        },
        "outputId": "612dafcd-47a4-4068-86fb-b6dfc0c8e7f2"
      },
      "cell_type": "code",
      "source": [
        "tval_mae"
      ],
      "execution_count": 41,
      "outputs": [
        {
          "output_type": "execute_result",
          "data": {
            "text/plain": [
              "10.510297655756856"
            ]
          },
          "metadata": {
            "tags": []
          },
          "execution_count": 41
        }
      ]
    },
    {
      "metadata": {
        "id": "YhERqwN34ncS",
        "colab_type": "code",
        "colab": {}
      },
      "cell_type": "code",
      "source": [
        "from keras.models import load_model\n",
        "\n",
        "model_full.save('100_725_1051.h5')  # creates a HDF5 file\n",
        "\n",
        "# returns a compiled model\n",
        "# identical to the previous one\n",
        "#model = load_model('4_100_1.h5')"
      ],
      "execution_count": 0,
      "outputs": []
    },
    {
      "metadata": {
        "id": "vac9KzVZMe0Z",
        "colab_type": "code",
        "colab": {}
      },
      "cell_type": "code",
      "source": [
        "#now build with full training and save\n",
        "model_full2 = build_model()\n",
        "history2_full = model_full2.fit(train_input, train_target,\n",
        "          epochs=500, batch_size=1, verbose=0)"
      ],
      "execution_count": 0,
      "outputs": []
    },
    {
      "metadata": {
        "id": "D4e4KMABN04b",
        "colab_type": "code",
        "colab": {
          "base_uri": "https://localhost:8080/",
          "height": 35
        },
        "outputId": "60840470-697b-412e-b59d-450f2413fb51"
      },
      "cell_type": "code",
      "source": [
        "mae_history2 = history2_full.history['mean_absolute_error']  #mae for each epoch\n",
        "print((min(mae_history2), mae_history2.index(min(mae_history2))))"
      ],
      "execution_count": 59,
      "outputs": [
        {
          "output_type": "stream",
          "text": [
            "(6.033143527528881, 490)\n"
          ],
          "name": "stdout"
        }
      ]
    },
    {
      "metadata": {
        "id": "zvX47uhmRrAD",
        "colab_type": "text"
      },
      "cell_type": "markdown",
      "source": [
        "<pre>\n",
        "100 4 fold = 11.170578491160299\n",
        "\n",
        " full train = 7.257545872916163\n",
        " full test = 10.510297655756856\n",
        "\n",
        "250 = (6.150688187210961, 243)\n",
        "\n",
        "[6.184894781197067,\n",
        " 6.174423328332141,\n",
        " 6.1951193345331514,\n",
        " 6.150688187210961,\n",
        " 6.197499098819969,\n",
        " 6.185656473910914,\n",
        " 6.157997042942891,\n",
        " 6.177618943695474,\n",
        " 6.185150342704976,\n",
        " 6.190723727023707]\n",
        " \n",
        " 500 = 6.033143527528881, 490\n",
        " \n",
        " full train = 5.857304525797346\n",
        " full test = 11.77185241441809\n",
        " \n",
        " </pre>"
      ]
    },
    {
      "metadata": {
        "id": "CedemaOCR2cs",
        "colab_type": "code",
        "colab": {
          "base_uri": "https://localhost:8080/",
          "height": 277
        },
        "outputId": "ddcc7245-c81e-4cc1-9c97-0750f6b9613a"
      },
      "cell_type": "code",
      "source": [
        "mae_history2[485:]"
      ],
      "execution_count": 61,
      "outputs": [
        {
          "output_type": "execute_result",
          "data": {
            "text/plain": [
              "[6.034996051070965,\n",
              " 6.053697869629986,\n",
              " 6.071950741784763,\n",
              " 6.0441614868366615,\n",
              " 6.048079902091913,\n",
              " 6.033143527528881,\n",
              " 6.054813715630928,\n",
              " 6.086161141479965,\n",
              " 6.062651821997314,\n",
              " 6.100719222136304,\n",
              " 6.081115469046399,\n",
              " 6.053502783311152,\n",
              " 6.091343568278625,\n",
              " 6.070001509970268,\n",
              " 6.089441236352498]"
            ]
          },
          "metadata": {
            "tags": []
          },
          "execution_count": 61
        }
      ]
    },
    {
      "metadata": {
        "id": "5Qt1cIu9gtX5",
        "colab_type": "code",
        "colab": {}
      },
      "cell_type": "code",
      "source": [
        "val_mse2, val_mae2 = model_full2.evaluate(train_input, train_target, verbose=0)"
      ],
      "execution_count": 0,
      "outputs": []
    },
    {
      "metadata": {
        "id": "YScTGW5vhKJi",
        "colab_type": "code",
        "colab": {
          "base_uri": "https://localhost:8080/",
          "height": 35
        },
        "outputId": "7c6ff605-3a6f-4e3f-a195-969e28ba103f"
      },
      "cell_type": "code",
      "source": [
        "val_mae2"
      ],
      "execution_count": 63,
      "outputs": [
        {
          "output_type": "execute_result",
          "data": {
            "text/plain": [
              "5.857304525797346"
            ]
          },
          "metadata": {
            "tags": []
          },
          "execution_count": 63
        }
      ]
    },
    {
      "metadata": {
        "id": "XAJEgVyMhdpe",
        "colab_type": "code",
        "colab": {
          "base_uri": "https://localhost:8080/",
          "height": 35
        },
        "outputId": "49148202-f188-461e-da2e-25d67bc9d7f6"
      },
      "cell_type": "code",
      "source": [
        "tval_mse2, tval_mae2 = model_full2.evaluate(test_input, test_target, verbose=0)\n",
        "tval_mae2"
      ],
      "execution_count": 64,
      "outputs": [
        {
          "output_type": "execute_result",
          "data": {
            "text/plain": [
              "11.77185241441809"
            ]
          },
          "metadata": {
            "tags": []
          },
          "execution_count": 64
        }
      ]
    },
    {
      "metadata": {
        "id": "t7K799fL15fg",
        "colab_type": "code",
        "colab": {
          "base_uri": "https://localhost:8080/",
          "height": 87
        },
        "outputId": "426a8c67-f7ca-4a1b-8882-d3de4d1d0833"
      },
      "cell_type": "code",
      "source": [
        "#try for 250 epochs and more monitoring\n",
        "\n",
        "num_epochs = 250\n",
        "\n",
        "all_mae_histories = []\n",
        "for i in range(k):\n",
        "    print('processing fold #', i)\n",
        "    val_data = train_input[i * num_val_samples: (i + 1) * num_val_samples]\n",
        "    val_targets = train_target[i * num_val_samples: (i + 1) * num_val_samples]\n",
        "    partial_train_input = np.concatenate(\n",
        "        [train_input[:i * num_val_samples],\n",
        "         train_input[(i + 1) * num_val_samples:]],\n",
        "        axis=0)\n",
        "    partial_train_targets = np.concatenate(\n",
        "        [train_target[:i * num_val_samples],\n",
        "         train_target[(i + 1) * num_val_samples:]],\n",
        "        axis=0)\n",
        "\n",
        "    model = build_model()\n",
        "    history = model.fit(partial_train_data, partial_train_targets,\n",
        "                        validation_data=(val_data, val_targets),\n",
        "                        epochs=num_epochs, batch_size=1, verbose=0)\n",
        "    mae_history = history.history['val_mean_absolute_error']\n",
        "    all_mae_histories.append(mae_history)\n",
        "    "
      ],
      "execution_count": 36,
      "outputs": [
        {
          "output_type": "stream",
          "text": [
            "processing fold # 0\n",
            "processing fold # 1\n",
            "processing fold # 2\n",
            "processing fold # 3\n"
          ],
          "name": "stdout"
        }
      ]
    },
    {
      "metadata": {
        "id": "cTHsWBdu4_qk",
        "colab_type": "code",
        "colab": {}
      },
      "cell_type": "code",
      "source": [
        "model.save('4_250_1.h5')  # creates a HDF5 file"
      ],
      "execution_count": 0,
      "outputs": []
    },
    {
      "metadata": {
        "id": "TEfWBnXk4qE8",
        "colab_type": "code",
        "colab": {
          "base_uri": "https://localhost:8080/",
          "height": 191
        },
        "outputId": "33635d0a-0cfe-46b6-9848-5960d0b79065"
      },
      "cell_type": "code",
      "source": [
        "all_mae_histories[0][:10]"
      ],
      "execution_count": 37,
      "outputs": [
        {
          "output_type": "execute_result",
          "data": {
            "text/plain": [
              "[9.45253214034359,\n",
              " 9.09430641663813,\n",
              " 9.280323578826094,\n",
              " 9.66068073711564,\n",
              " 9.196015346999717,\n",
              " 9.69879515487536,\n",
              " 9.307971257235097,\n",
              " 9.535667178905115,\n",
              " 9.048183948381812,\n",
              " 9.623705510333576]"
            ]
          },
          "metadata": {
            "tags": []
          },
          "execution_count": 37
        }
      ]
    },
    {
      "metadata": {
        "id": "wTYbjGvM2d0m",
        "colab_type": "code",
        "colab": {}
      },
      "cell_type": "code",
      "source": [
        "average_mae_history = [np.mean([x[i] for x in all_mae_histories]) for i in range(num_epochs)]"
      ],
      "execution_count": 0,
      "outputs": []
    },
    {
      "metadata": {
        "id": "7HTHfEza2qY2",
        "colab_type": "code",
        "colab": {
          "base_uri": "https://localhost:8080/",
          "height": 361
        },
        "outputId": "5ab7c843-61cb-463e-d102-887ec6e18ec4"
      },
      "cell_type": "code",
      "source": [
        "import matplotlib.pyplot as plt\n",
        "\n",
        "plt.plot(range(1, len(average_mae_history) + 1), average_mae_history)\n",
        "plt.xlabel('Epochs')\n",
        "plt.ylabel('Validation MAE')\n",
        "plt.show()"
      ],
      "execution_count": 39,
      "outputs": [
        {
          "output_type": "display_data",
          "data": {
            "image/png": "[encoded data removed]",
            "text/plain": [
              "<matplotlib.figure.Figure at 0x7f119ec55400>"
            ]
          },
          "metadata": {
            "tags": []
          }
        }
      ]
    },
    {
      "metadata": {
        "id": "LSW9Zoij5XNe",
        "colab_type": "code",
        "colab": {}
      },
      "cell_type": "code",
      "source": [
        "average_mae_history[:25]"
      ],
      "execution_count": 0,
      "outputs": []
    },
    {
      "metadata": {
        "id": "8SjpN_kt2_Hj",
        "colab_type": "code",
        "colab": {
          "base_uri": "https://localhost:8080/",
          "height": 361
        },
        "outputId": "a0c49206-f7e1-4196-f83c-9b3051bd4f8d"
      },
      "cell_type": "code",
      "source": [
        "def smooth_curve(points, factor=0.9):\n",
        "  smoothed_points = []\n",
        "  for point in points:\n",
        "    if smoothed_points:\n",
        "      previous = smoothed_points[-1]\n",
        "      smoothed_points.append(previous * factor + point * (1 - factor))\n",
        "    else:\n",
        "      smoothed_points.append(point)\n",
        "  return smoothed_points\n",
        "\n",
        "smooth_mae_history = smooth_curve(average_mae_history[10:])\n",
        "\n",
        "plt.plot(range(1, len(smooth_mae_history) + 1), smooth_mae_history)\n",
        "plt.xlabel('Epochs')\n",
        "plt.ylabel('Validation MAE')\n",
        "plt.show()"
      ],
      "execution_count": 40,
      "outputs": [
        {
          "output_type": "display_data",
          "data": {
            "image/png": "[encoded data removed]",
            "text/plain": [
              "<matplotlib.figure.Figure at 0x7f119dd07c18>"
            ]
          },
          "metadata": {
            "tags": []
          }
        }
      ]
    },
    {
      "metadata": {
        "id": "msP6XONo3Wma",
        "colab_type": "code",
        "colab": {
          "base_uri": "https://localhost:8080/",
          "height": 35
        },
        "outputId": "a41c9de0-edda-47b7-f3cc-1633b0e0ad29"
      },
      "cell_type": "code",
      "source": [
        "#now that know where to set epochs, go back and train on full training data.\n",
        "\n",
        "new_epochs = 10\n",
        "batch_size = 1\n",
        "\n",
        "model = build_model()\n",
        "model.fit(train_input, train_target,\n",
        "          epochs=new_epochs, batch_size=batch_size, verbose=0)\n",
        "test_mse_score, test_mae_score = model.evaluate(test_input, test_target)\n",
        "\n"
      ],
      "execution_count": 41,
      "outputs": [
        {
          "output_type": "stream",
          "text": [
            "1971/1971 [==============================] - 0s 79us/step\n"
          ],
          "name": "stdout"
        }
      ]
    },
    {
      "metadata": {
        "id": "ZI8Q-_znTlTa",
        "colab_type": "code",
        "colab": {
          "base_uri": "https://localhost:8080/",
          "height": 35
        },
        "outputId": "4fcf1231-2e8d-4c21-e3ad-f6745f5a9040"
      },
      "cell_type": "code",
      "source": [
        "print((test_mse_score, test_mae_score))"
      ],
      "execution_count": 42,
      "outputs": [
        {
          "output_type": "stream",
          "text": [
            "(151.94027888018852, 9.450068247372702)\n"
          ],
          "name": "stdout"
        }
      ]
    },
    {
      "metadata": {
        "id": "kAJEoLw_4dwI",
        "colab_type": "code",
        "colab": {
          "base_uri": "https://localhost:8080/",
          "height": 52
        },
        "outputId": "ef79e871-b86a-4686-8bc7-41d44d2defb4"
      },
      "cell_type": "code",
      "source": [
        "model = build_model()\n",
        "model.fit(train_input, train_target,\n",
        "          epochs=20, batch_size=16, verbose=0)\n",
        "test_mse_score, test_mae_score = model.evaluate(test_input, test_target)\n",
        "\n",
        "test_mae_score"
      ],
      "execution_count": 0,
      "outputs": [
        {
          "output_type": "stream",
          "text": [
            "177/177 [==============================] - 0s 840us/step\n"
          ],
          "name": "stdout"
        },
        {
          "output_type": "execute_result",
          "data": {
            "text/plain": [
              "10.891290675448833"
            ]
          },
          "metadata": {
            "tags": []
          },
          "execution_count": 37
        }
      ]
    },
    {
      "metadata": {
        "id": "3J4qeQYA4NI5",
        "colab_type": "code",
        "colab": {}
      },
      "cell_type": "code",
      "source": [
        "predictions = model.predict(test_input)"
      ],
      "execution_count": 0,
      "outputs": []
    },
    {
      "metadata": {
        "id": "JF_PWydq5F9I",
        "colab_type": "code",
        "colab": {
          "base_uri": "https://localhost:8080/",
          "height": 191
        },
        "outputId": "a4f54c79-f3a3-4fa9-8857-d1c371561389"
      },
      "cell_type": "code",
      "source": [
        "predictions[:10]"
      ],
      "execution_count": 44,
      "outputs": [
        {
          "output_type": "execute_result",
          "data": {
            "text/plain": [
              "array([[25.796   ],\n",
              "       [21.701513],\n",
              "       [20.616594],\n",
              "       [18.34076 ],\n",
              "       [20.49483 ],\n",
              "       [21.838705],\n",
              "       [19.683733],\n",
              "       [22.834265],\n",
              "       [20.145742],\n",
              "       [22.193132]], dtype=float32)"
            ]
          },
          "metadata": {
            "tags": []
          },
          "execution_count": 44
        }
      ]
    },
    {
      "metadata": {
        "id": "kPFZ6f6V5MFc",
        "colab_type": "code",
        "colab": {}
      },
      "cell_type": "code",
      "source": [
        "diffs = []\n",
        "for i in range(len(test_target)):\n",
        "  actual = test_target[i]\n",
        "  pred = predictions[i][0]\n",
        "  diffs.append(pred-actual)\n",
        "          "
      ],
      "execution_count": 0,
      "outputs": []
    },
    {
      "metadata": {
        "id": "HyrXgvrt6DeS",
        "colab_type": "code",
        "colab": {
          "base_uri": "https://localhost:8080/",
          "height": 191
        },
        "outputId": "6ef4b765-ae14-49d3-e7c6-95a4642a76ce"
      },
      "cell_type": "code",
      "source": [
        "diffs[:10]  #negative is under-estimating"
      ],
      "execution_count": 46,
      "outputs": [
        {
          "output_type": "execute_result",
          "data": {
            "text/plain": [
              "[15.795999526977539,\n",
              " -13.298486709594727,\n",
              " 3.6165943145751953,\n",
              " -32.65924072265625,\n",
              " 7.494829177856445,\n",
              " -11.161294937133789,\n",
              " -17.316267013549805,\n",
              " -10.165735244750977,\n",
              " 1.145742416381836,\n",
              " -20.806867599487305]"
            ]
          },
          "metadata": {
            "tags": []
          },
          "execution_count": 46
        }
      ]
    },
    {
      "metadata": {
        "id": "-izFHLLu65Wh",
        "colab_type": "code",
        "colab": {
          "base_uri": "https://localhost:8080/",
          "height": 347
        },
        "outputId": "96035691-2ce1-448b-eb36-1aa9293bd48a"
      },
      "cell_type": "code",
      "source": [
        "\n",
        "plt.hist(diffs)\n",
        "plt.show()"
      ],
      "execution_count": 47,
      "outputs": [
        {
          "output_type": "display_data",
          "data": {
            "image/png": "[encoded data removed]",
            "text/plain": [
              "<matplotlib.figure.Figure at 0x7f119bb13b70>"
            ]
          },
          "metadata": {
            "tags": []
          }
        }
      ]
    },
    {
      "metadata": {
        "id": "SOIatYqwv8nh",
        "colab_type": "code",
        "colab": {
          "base_uri": "https://localhost:8080/",
          "height": 35
        },
        "outputId": "fb105bf7-597d-4cc6-be2c-36932a8a555c"
      },
      "cell_type": "code",
      "source": [
        "over = [x for x in diffs if x>0]\n",
        "over_average = sum(over)/len(over)\n",
        "over_average"
      ],
      "execution_count": 48,
      "outputs": [
        {
          "output_type": "execute_result",
          "data": {
            "text/plain": [
              "7.950841824662663"
            ]
          },
          "metadata": {
            "tags": []
          },
          "execution_count": 48
        }
      ]
    },
    {
      "metadata": {
        "id": "m4_R71Ye_zz5",
        "colab_type": "code",
        "colab": {
          "base_uri": "https://localhost:8080/",
          "height": 35
        },
        "outputId": "9dac268a-a5be-4048-fa04-0d983ab6ddd2"
      },
      "cell_type": "code",
      "source": [
        "under = [x for x in diffs if x<0]\n",
        "under_average = sum(under)/len(under)\n",
        "under_average"
      ],
      "execution_count": 49,
      "outputs": [
        {
          "output_type": "execute_result",
          "data": {
            "text/plain": [
              "-11.201639676907144"
            ]
          },
          "metadata": {
            "tags": []
          },
          "execution_count": 49
        }
      ]
    },
    {
      "metadata": {
        "id": "NeD6tdsdAzB6",
        "colab_type": "text"
      },
      "cell_type": "markdown",
      "source": [
        "predict less than actual at average of 14.23. Rider has to wait longer than we predict.\n",
        "\n",
        "Not so good.\n",
        "\n",
        "Both are roughly equal in terms of numbers of over and under predictions."
      ]
    },
    {
      "metadata": {
        "id": "LjSKEjAPCf1n",
        "colab_type": "code",
        "colab": {
          "base_uri": "https://localhost:8080/",
          "height": 35
        },
        "outputId": "2c4071a8-33c2-4a88-d2dd-0ca1d475279a"
      },
      "cell_type": "code",
      "source": [
        "(len(over),len(under))  #over predicting at roughly 10% more"
      ],
      "execution_count": 50,
      "outputs": [
        {
          "output_type": "execute_result",
          "data": {
            "text/plain": [
              "(1062, 909)"
            ]
          },
          "metadata": {
            "tags": []
          },
          "execution_count": 50
        }
      ]
    },
    {
      "metadata": {
        "id": "8BExjdlMq4xV",
        "colab_type": "code",
        "colab": {
          "base_uri": "https://localhost:8080/",
          "height": 314
        },
        "outputId": "0c0e6cd4-52b4-4862-bbd7-196ba7fe2d91"
      },
      "cell_type": "code",
      "source": [
        "df_26.describe()"
      ],
      "execution_count": 51,
      "outputs": [
        {
          "output_type": "execute_result",
          "data": {
            "text/html": [
              "<div>\n",
              "<style scoped>\n",
              "    .dataframe tbody tr th:only-of-type {\n",
              "        vertical-align: middle;\n",
              "    }\n",
              "\n",
              "    .dataframe tbody tr th {\n",
              "        vertical-align: top;\n",
              "    }\n",
              "\n",
              "    .dataframe thead th {\n",
              "        text-align: right;\n",
              "    }\n",
              "</style>\n",
              "<table border=\"1\" class=\"dataframe\">\n",
              "  <thead>\n",
              "    <tr style=\"text-align: right;\">\n",
              "      <th></th>\n",
              "      <th>month</th>\n",
              "      <th>day</th>\n",
              "      <th>dow</th>\n",
              "      <th>hour</th>\n",
              "      <th>minute</th>\n",
              "      <th>second</th>\n",
              "      <th>this_duration</th>\n",
              "      <th>last_phases_map</th>\n",
              "      <th>last_duration_0</th>\n",
              "      <th>last_duration_1</th>\n",
              "      <th>last_duration_2</th>\n",
              "      <th>last_duration_3</th>\n",
              "      <th>last_duration_4</th>\n",
              "      <th>last_duration_5</th>\n",
              "      <th>last_duration_6</th>\n",
              "      <th>last_duration_7</th>\n",
              "      <th>last_duration_8</th>\n",
              "      <th>last_duration_9</th>\n",
              "    </tr>\n",
              "  </thead>\n",
              "  <tbody>\n",
              "    <tr>\n",
              "      <th>count</th>\n",
              "      <td>6491.000000</td>\n",
              "      <td>6491.000000</td>\n",
              "      <td>6491.000000</td>\n",
              "      <td>6491.000000</td>\n",
              "      <td>6491.000000</td>\n",
              "      <td>6491.000000</td>\n",
              "      <td>6491.000000</td>\n",
              "      <td>6491.000000</td>\n",
              "      <td>6491.000000</td>\n",
              "      <td>6491.000000</td>\n",
              "      <td>6491.000000</td>\n",
              "      <td>6491.000000</td>\n",
              "      <td>6491.000000</td>\n",
              "      <td>6491.000000</td>\n",
              "      <td>6491.000000</td>\n",
              "      <td>6491.000000</td>\n",
              "      <td>6491.000000</td>\n",
              "      <td>6491.000000</td>\n",
              "    </tr>\n",
              "    <tr>\n",
              "      <th>mean</th>\n",
              "      <td>7.433215</td>\n",
              "      <td>17.800647</td>\n",
              "      <td>1.763057</td>\n",
              "      <td>13.162071</td>\n",
              "      <td>29.585888</td>\n",
              "      <td>29.318749</td>\n",
              "      <td>23.414574</td>\n",
              "      <td>5.567093</td>\n",
              "      <td>23.396087</td>\n",
              "      <td>23.396395</td>\n",
              "      <td>23.396087</td>\n",
              "      <td>23.395317</td>\n",
              "      <td>23.397319</td>\n",
              "      <td>23.397782</td>\n",
              "      <td>23.403636</td>\n",
              "      <td>23.403790</td>\n",
              "      <td>23.404098</td>\n",
              "      <td>23.410723</td>\n",
              "    </tr>\n",
              "    <tr>\n",
              "      <th>std</th>\n",
              "      <td>0.495558</td>\n",
              "      <td>9.153106</td>\n",
              "      <td>1.285427</td>\n",
              "      <td>3.568815</td>\n",
              "      <td>17.342995</td>\n",
              "      <td>17.307753</td>\n",
              "      <td>11.995013</td>\n",
              "      <td>5.263321</td>\n",
              "      <td>11.983493</td>\n",
              "      <td>11.983303</td>\n",
              "      <td>11.983365</td>\n",
              "      <td>11.984194</td>\n",
              "      <td>11.983041</td>\n",
              "      <td>11.982852</td>\n",
              "      <td>11.987053</td>\n",
              "      <td>11.986887</td>\n",
              "      <td>11.986800</td>\n",
              "      <td>11.990167</td>\n",
              "    </tr>\n",
              "    <tr>\n",
              "      <th>min</th>\n",
              "      <td>7.000000</td>\n",
              "      <td>1.000000</td>\n",
              "      <td>0.000000</td>\n",
              "      <td>0.000000</td>\n",
              "      <td>0.000000</td>\n",
              "      <td>0.000000</td>\n",
              "      <td>0.000000</td>\n",
              "      <td>0.000000</td>\n",
              "      <td>0.000000</td>\n",
              "      <td>0.000000</td>\n",
              "      <td>0.000000</td>\n",
              "      <td>0.000000</td>\n",
              "      <td>0.000000</td>\n",
              "      <td>0.000000</td>\n",
              "      <td>0.000000</td>\n",
              "      <td>0.000000</td>\n",
              "      <td>0.000000</td>\n",
              "      <td>0.000000</td>\n",
              "    </tr>\n",
              "    <tr>\n",
              "      <th>25%</th>\n",
              "      <td>7.000000</td>\n",
              "      <td>8.000000</td>\n",
              "      <td>1.000000</td>\n",
              "      <td>11.000000</td>\n",
              "      <td>15.000000</td>\n",
              "      <td>14.000000</td>\n",
              "      <td>14.000000</td>\n",
              "      <td>2.000000</td>\n",
              "      <td>14.000000</td>\n",
              "      <td>14.000000</td>\n",
              "      <td>14.000000</td>\n",
              "      <td>14.000000</td>\n",
              "      <td>14.000000</td>\n",
              "      <td>14.000000</td>\n",
              "      <td>14.000000</td>\n",
              "      <td>14.000000</td>\n",
              "      <td>14.000000</td>\n",
              "      <td>14.000000</td>\n",
              "    </tr>\n",
              "    <tr>\n",
              "      <th>50%</th>\n",
              "      <td>7.000000</td>\n",
              "      <td>20.000000</td>\n",
              "      <td>2.000000</td>\n",
              "      <td>13.000000</td>\n",
              "      <td>29.000000</td>\n",
              "      <td>29.000000</td>\n",
              "      <td>22.000000</td>\n",
              "      <td>4.000000</td>\n",
              "      <td>22.000000</td>\n",
              "      <td>22.000000</td>\n",
              "      <td>22.000000</td>\n",
              "      <td>22.000000</td>\n",
              "      <td>22.000000</td>\n",
              "      <td>22.000000</td>\n",
              "      <td>22.000000</td>\n",
              "      <td>22.000000</td>\n",
              "      <td>22.000000</td>\n",
              "      <td>22.000000</td>\n",
              "    </tr>\n",
              "    <tr>\n",
              "      <th>75%</th>\n",
              "      <td>8.000000</td>\n",
              "      <td>26.000000</td>\n",
              "      <td>3.000000</td>\n",
              "      <td>15.000000</td>\n",
              "      <td>45.000000</td>\n",
              "      <td>44.000000</td>\n",
              "      <td>29.000000</td>\n",
              "      <td>6.000000</td>\n",
              "      <td>29.000000</td>\n",
              "      <td>29.000000</td>\n",
              "      <td>29.000000</td>\n",
              "      <td>29.000000</td>\n",
              "      <td>29.000000</td>\n",
              "      <td>29.000000</td>\n",
              "      <td>29.000000</td>\n",
              "      <td>29.000000</td>\n",
              "      <td>29.000000</td>\n",
              "      <td>29.000000</td>\n",
              "    </tr>\n",
              "    <tr>\n",
              "      <th>max</th>\n",
              "      <td>8.000000</td>\n",
              "      <td>31.000000</td>\n",
              "      <td>5.000000</td>\n",
              "      <td>23.000000</td>\n",
              "      <td>59.000000</td>\n",
              "      <td>59.000000</td>\n",
              "      <td>51.000000</td>\n",
              "      <td>20.000000</td>\n",
              "      <td>51.000000</td>\n",
              "      <td>51.000000</td>\n",
              "      <td>51.000000</td>\n",
              "      <td>51.000000</td>\n",
              "      <td>51.000000</td>\n",
              "      <td>51.000000</td>\n",
              "      <td>51.000000</td>\n",
              "      <td>51.000000</td>\n",
              "      <td>51.000000</td>\n",
              "      <td>51.000000</td>\n",
              "    </tr>\n",
              "  </tbody>\n",
              "</table>\n",
              "</div>"
            ],
            "text/plain": [
              "             month          day          dow         hour       minute  \\\n",
              "count  6491.000000  6491.000000  6491.000000  6491.000000  6491.000000   \n",
              "mean      7.433215    17.800647     1.763057    13.162071    29.585888   \n",
              "std       0.495558     9.153106     1.285427     3.568815    17.342995   \n",
              "min       7.000000     1.000000     0.000000     0.000000     0.000000   \n",
              "25%       7.000000     8.000000     1.000000    11.000000    15.000000   \n",
              "50%       7.000000    20.000000     2.000000    13.000000    29.000000   \n",
              "75%       8.000000    26.000000     3.000000    15.000000    45.000000   \n",
              "max       8.000000    31.000000     5.000000    23.000000    59.000000   \n",
              "\n",
              "            second  this_duration  last_phases_map  last_duration_0  \\\n",
              "count  6491.000000    6491.000000      6491.000000      6491.000000   \n",
              "mean     29.318749      23.414574         5.567093        23.396087   \n",
              "std      17.307753      11.995013         5.263321        11.983493   \n",
              "min       0.000000       0.000000         0.000000         0.000000   \n",
              "25%      14.000000      14.000000         2.000000        14.000000   \n",
              "50%      29.000000      22.000000         4.000000        22.000000   \n",
              "75%      44.000000      29.000000         6.000000        29.000000   \n",
              "max      59.000000      51.000000        20.000000        51.000000   \n",
              "\n",
              "       last_duration_1  last_duration_2  last_duration_3  last_duration_4  \\\n",
              "count      6491.000000      6491.000000      6491.000000      6491.000000   \n",
              "mean         23.396395        23.396087        23.395317        23.397319   \n",
              "std          11.983303        11.983365        11.984194        11.983041   \n",
              "min           0.000000         0.000000         0.000000         0.000000   \n",
              "25%          14.000000        14.000000        14.000000        14.000000   \n",
              "50%          22.000000        22.000000        22.000000        22.000000   \n",
              "75%          29.000000        29.000000        29.000000        29.000000   \n",
              "max          51.000000        51.000000        51.000000        51.000000   \n",
              "\n",
              "       last_duration_5  last_duration_6  last_duration_7  last_duration_8  \\\n",
              "count      6491.000000      6491.000000      6491.000000      6491.000000   \n",
              "mean         23.397782        23.403636        23.403790        23.404098   \n",
              "std          11.982852        11.987053        11.986887        11.986800   \n",
              "min           0.000000         0.000000         0.000000         0.000000   \n",
              "25%          14.000000        14.000000        14.000000        14.000000   \n",
              "50%          22.000000        22.000000        22.000000        22.000000   \n",
              "75%          29.000000        29.000000        29.000000        29.000000   \n",
              "max          51.000000        51.000000        51.000000        51.000000   \n",
              "\n",
              "       last_duration_9  \n",
              "count      6491.000000  \n",
              "mean         23.410723  \n",
              "std          11.990167  \n",
              "min           0.000000  \n",
              "25%          14.000000  \n",
              "50%          22.000000  \n",
              "75%          29.000000  \n",
              "max          51.000000  "
            ]
          },
          "metadata": {
            "tags": []
          },
          "execution_count": 51
        }
      ]
    },
    {
      "metadata": {
        "id": "gnKSp_F3raG1",
        "colab_type": "code",
        "colab": {
          "base_uri": "https://localhost:8080/",
          "height": 867
        },
        "outputId": "404c1823-3c8a-4c2e-d7bd-430a69c6c42f"
      },
      "cell_type": "code",
      "source": [
        "vc = df_26['this_duration'].value_counts()\n",
        "vc"
      ],
      "execution_count": 56,
      "outputs": [
        {
          "output_type": "execute_result",
          "data": {
            "text/plain": [
              "51    464\n",
              "9     385\n",
              "22    364\n",
              "19    344\n",
              "12    332\n",
              "23    331\n",
              "11    302\n",
              "16    270\n",
              "14    265\n",
              "17    255\n",
              "25    250\n",
              "8     241\n",
              "20    235\n",
              "29    222\n",
              "32    219\n",
              "26    207\n",
              "28    205\n",
              "15    186\n",
              "35    185\n",
              "13    151\n",
              "31    102\n",
              "34     97\n",
              "38     74\n",
              "18     73\n",
              "10     71\n",
              "24     71\n",
              "21     68\n",
              "41     65\n",
              "30     45\n",
              "37     41\n",
              "33     35\n",
              "44     31\n",
              "36     31\n",
              "42     29\n",
              "46     26\n",
              "39     26\n",
              "49     24\n",
              "43     24\n",
              "40     23\n",
              "6      23\n",
              "45     22\n",
              "27     20\n",
              "48     19\n",
              "47     18\n",
              "50     15\n",
              "7       3\n",
              "5       1\n",
              "0       1\n",
              "Name: this_duration, dtype: int64"
            ]
          },
          "metadata": {
            "tags": []
          },
          "execution_count": 56
        }
      ]
    },
    {
      "metadata": {
        "id": "lGvH9sYeu6vM",
        "colab_type": "code",
        "colab": {
          "base_uri": "https://localhost:8080/",
          "height": 35
        },
        "outputId": "5bf2d0fd-4ff8-4163-fe2d-8ff51f1a0e20"
      },
      "cell_type": "code",
      "source": [
        "vc[9]"
      ],
      "execution_count": 59,
      "outputs": [
        {
          "output_type": "execute_result",
          "data": {
            "text/plain": [
              "385"
            ]
          },
          "metadata": {
            "tags": []
          },
          "execution_count": 59
        }
      ]
    },
    {
      "metadata": {
        "id": "abuEren3vgLh",
        "colab_type": "code",
        "colab": {
          "base_uri": "https://localhost:8080/",
          "height": 347
        },
        "outputId": "0740c3d2-fc14-4b6e-9fc4-254271c68472"
      },
      "cell_type": "code",
      "source": [
        "\n",
        "lists = sorted(vc.items()) # sorted by key, return a list of tuples\n",
        "\n",
        "xa, ya = zip(*lists) # unpack a list of pairs into two tuples\n",
        "\n",
        "plt.plot(xa, ya)\n",
        "plt.show()"
      ],
      "execution_count": 60,
      "outputs": [
        {
          "output_type": "display_data",
          "data": {
            "image/png": "[encoded data removed]",
            "text/plain": [
              "<matplotlib.figure.Figure at 0x7f119ba3cf28>"
            ]
          },
          "metadata": {
            "tags": []
          }
        }
      ]
    },
    {
      "metadata": {
        "id": "1iz0tA83stgG",
        "colab_type": "text"
      },
      "cell_type": "markdown",
      "source": [
        "GET MORE DATA BEFORE MESSING WITH HYPER PARAMS"
      ]
    }
  ]
}