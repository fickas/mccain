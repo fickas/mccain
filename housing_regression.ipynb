{
  "nbformat": 4,
  "nbformat_minor": 0,
  "metadata": {
    "colab": {
      "name": "housing_regression.ipynb",
      "version": "0.3.2",
      "provenance": [],
      "include_colab_link": true
    },
    "kernelspec": {
      "name": "python3",
      "display_name": "Python 3"
    }
  },
  "cells": [
    {
      "cell_type": "markdown",
      "metadata": {
        "id": "view-in-github",
        "colab_type": "text"
      },
      "source": [
        "[View in Colaboratory](https://colab.research.google.com/github/fickas/mccain/blob/master/housing_regression.ipynb)"
      ]
    },
    {
      "metadata": {
        "id": "V7sFXFIL5FP8",
        "colab_type": "text"
      },
      "cell_type": "markdown",
      "source": [
        "<ul>\n",
        "<li>Regression is done using different loss functions than what we used for classification. Mean squared error (MSE) is a loss function commonly used for regression.\n",
        "<li>Similarly, evaluation metrics to be used for regression differ from those used for classification; naturally, the concept of accuracy doesn’t apply for regression. A common regression metric is mean absolute error (MAE).\n",
        "<li>When features in the input data have values in different ranges, each feature should be scaled independently as a preprocessing step.\n",
        "<li>When there is little data available, using K-fold validation is a great way to reliably evaluate a model.\n",
        "<li>When little training data is available, it’s preferable to use a small network with few hidden layers (typically only one or two), in order to avoid severe overfitting.\n",
        "  </ul>\n",
        "\n",
        "\n"
      ]
    },
    {
      "metadata": {
        "id": "KzWow2yiyeNt",
        "colab_type": "code",
        "colab": {
          "base_uri": "https://localhost:8080/",
          "height": 69
        },
        "outputId": "a300b7bb-0e9f-4a8d-ae89-d535f64abf1d"
      },
      "cell_type": "code",
      "source": [
        "from keras.datasets import boston_housing\n",
        "\n",
        "(train_data, train_targets), (test_data, test_targets) = boston_housing.load_data()"
      ],
      "execution_count": 1,
      "outputs": [
        {
          "output_type": "stream",
          "text": [
            "Using TensorFlow backend.\n"
          ],
          "name": "stderr"
        },
        {
          "output_type": "stream",
          "text": [
            "Downloading data from https://s3.amazonaws.com/keras-datasets/boston_housing.npz\n",
            "57344/57026 [==============================] - 0s 3us/step\n"
          ],
          "name": "stdout"
        }
      ]
    },
    {
      "metadata": {
        "id": "tMijhoTe5dmX",
        "colab_type": "text"
      },
      "cell_type": "markdown",
      "source": [
        ""
      ]
    },
    {
      "metadata": {
        "id": "UFHLuJtwyrlm",
        "colab_type": "code",
        "colab": {
          "base_uri": "https://localhost:8080/",
          "height": 35
        },
        "outputId": "c4842d60-1fcf-43c1-ff16-bbb855c365db"
      },
      "cell_type": "code",
      "source": [
        "train_data.shape  #(samples, features)\n"
      ],
      "execution_count": 2,
      "outputs": [
        {
          "output_type": "execute_result",
          "data": {
            "text/plain": [
              "(404, 13)"
            ]
          },
          "metadata": {
            "tags": []
          },
          "execution_count": 2
        }
      ]
    },
    {
      "metadata": {
        "id": "HyWXHzTXyvkx",
        "colab_type": "code",
        "colab": {
          "base_uri": "https://localhost:8080/",
          "height": 35
        },
        "outputId": "e52a624c-b302-4375-e480-89256bb7ccfb"
      },
      "cell_type": "code",
      "source": [
        "\n",
        "test_data.shape\n"
      ],
      "execution_count": 3,
      "outputs": [
        {
          "output_type": "execute_result",
          "data": {
            "text/plain": [
              "(102, 13)"
            ]
          },
          "metadata": {
            "tags": []
          },
          "execution_count": 3
        }
      ]
    },
    {
      "metadata": {
        "id": "ZKhvAUq6zFak",
        "colab_type": "code",
        "colab": {
          "base_uri": "https://localhost:8080/",
          "height": 35
        },
        "outputId": "96f1f560-561b-4139-c751-788af18eb47c"
      },
      "cell_type": "code",
      "source": [
        "train_targets[:10]\n"
      ],
      "execution_count": 4,
      "outputs": [
        {
          "output_type": "execute_result",
          "data": {
            "text/plain": [
              "array([15.2, 42.3, 50. , 21.1, 17.7, 18.5, 11.3, 15.6, 15.6, 14.4])"
            ]
          },
          "metadata": {
            "tags": []
          },
          "execution_count": 4
        }
      ]
    },
    {
      "metadata": {
        "id": "d2mu6nJGzW7j",
        "colab_type": "code",
        "colab": {
          "base_uri": "https://localhost:8080/",
          "height": 1231
        },
        "outputId": "af1b3279-79f5-41a6-fafd-00bb4da9fda3"
      },
      "cell_type": "code",
      "source": [
        "#for each feature, take mean, subtract mean to get a mean of 0, then divide by std to get std of 1\n",
        "#numpy makes it easy to map these operations across all features.\n",
        "\n",
        "\n",
        "mean = train_data.mean(axis=0)\n",
        "train_data -= mean\n",
        "std = train_data.std(axis=0)\n",
        "train_data /= std\n",
        "\n",
        "test_data -= mean\n",
        "test_data /= std\n",
        "\n",
        "print(train_data[:10])\n",
        "print(test_data[:10])"
      ],
      "execution_count": 5,
      "outputs": [
        {
          "output_type": "stream",
          "text": [
            "[[-0.27224633 -0.48361547 -0.43576161 -0.25683275 -0.1652266  -0.1764426\n",
            "   0.81306188  0.1166983  -0.62624905 -0.59517003  1.14850044  0.44807713\n",
            "   0.8252202 ]\n",
            " [-0.40342651  2.99178419 -1.33391162 -0.25683275 -1.21518188  1.89434613\n",
            "  -1.91036058  1.24758524 -0.85646254 -0.34843254 -1.71818909  0.43190599\n",
            "  -1.32920239]\n",
            " [ 0.1249402  -0.48361547  1.0283258  -0.25683275  0.62864202 -1.82968811\n",
            "   1.11048828 -1.18743907  1.67588577  1.5652875   0.78447637  0.22061726\n",
            "  -1.30850006]\n",
            " [-0.40149354 -0.48361547 -0.86940196 -0.25683275 -0.3615597  -0.3245576\n",
            "  -1.23667187  1.10717989 -0.51114231 -1.094663    0.78447637  0.44807713\n",
            "  -0.65292624]\n",
            " [-0.0056343  -0.48361547  1.0283258  -0.25683275  1.32861221  0.15364225\n",
            "   0.69480801 -0.57857203  1.67588577  1.5652875   0.78447637  0.3898823\n",
            "   0.26349695]\n",
            " [-0.37502238 -0.48361547 -0.54747912 -0.25683275 -0.54935658 -0.78865126\n",
            "   0.18954148  0.48371503 -0.51114231 -0.71552978  0.51145832  0.38669063\n",
            "  -0.13812828]\n",
            " [ 0.58963463 -0.48361547  1.0283258  -0.25683275  1.21764133 -1.03127774\n",
            "   1.11048828 -1.06518235  1.67588577  1.5652875   0.78447637  0.44807713\n",
            "   1.49873604]\n",
            " [ 0.0381708  -0.48361547  1.24588095 -0.25683275  2.67733525 -1.12719983\n",
            "   1.11048828 -1.14833073 -0.51114231 -0.01744323 -1.71818909  0.44807713\n",
            "   1.88793986]\n",
            " [-0.17228416 -0.48361547  1.24588095 -0.25683275  2.67733525 -0.90150078\n",
            "   1.11048828 -1.09664657 -0.51114231 -0.01744323 -1.71818909 -1.97365769\n",
            "   0.53952803]\n",
            " [-0.22932104 -0.48361547  1.58544339 -0.25683275  0.56888847 -1.76056777\n",
            "   1.11048828 -1.13471925 -0.62624905  0.18716835  1.23950646  0.44807713\n",
            "   2.99068404]]\n",
            "[[ 1.55369355e+00 -4.83615471e-01  1.02832580e+00 -2.56832748e-01\n",
            "   1.03838067e+00  2.35458154e-01  1.11048828e+00 -9.39769356e-01\n",
            "   1.67588577e+00  1.56528750e+00  7.84476371e-01 -3.48459553e+00\n",
            "   2.25092074e+00]\n",
            " [-3.92426750e-01 -4.83615471e-01 -1.60877730e-01 -2.56832748e-01\n",
            "  -8.84006055e-02 -4.99474361e-01  8.56063288e-01 -6.83962347e-01\n",
            "  -3.96035570e-01  1.57078413e-01 -3.07595832e-01  4.27331262e-01\n",
            "   4.78801191e-01]\n",
            " [-3.99829269e-01 -4.83615471e-01 -8.69401957e-01 -2.56832748e-01\n",
            "  -3.61559702e-01 -3.97909790e-01 -8.46075750e-01  5.28642770e-01\n",
            "  -5.11142311e-01 -1.09466300e+00  7.84476371e-01  4.48077135e-01\n",
            "  -4.14159358e-01]\n",
            " [-2.67805040e-01 -4.83615471e-01  1.24588095e+00  3.89358447e+00\n",
            "   4.06700257e-01 -2.40957473e-02  8.45312937e-01 -9.57671408e-01\n",
            "  -5.11142311e-01 -1.74432263e-02 -1.71818909e+00 -1.68766802e-01\n",
            "  -9.99345252e-01]\n",
            " [-3.98037149e-01 -4.83615471e-01 -9.72299666e-01 -2.56832748e-01\n",
            "  -9.24950339e-01 -2.06065602e-01 -4.37562381e-01  3.61454166e-03\n",
            "  -7.41355794e-01 -9.56249284e-01  1.09252273e-02  4.29459044e-01\n",
            "  -5.93579561e-01]\n",
            " [-3.75493705e-01 -4.83615471e-01 -2.07916683e-01 -2.56832748e-01\n",
            "   2.35975822e-01 -4.81136313e-01 -9.46412367e-01 -6.70005651e-01\n",
            "  -3.96035570e-01 -8.96590769e-02  3.29446286e-01  4.48077135e-01\n",
            "   1.17200474e-01]\n",
            " [-4.02481694e-01  1.83331764e+00 -1.07666734e+00 -2.56832748e-01\n",
            "  -6.26182577e-01  8.56130528e-01 -1.46601271e+00  1.34395055e+00\n",
            "  -5.11142311e-01 -2.16036815e-01 -3.98601849e-01  3.53071678e-01\n",
            "  -1.12217908e+00]\n",
            " [-4.01937774e-01  5.69535943e-01 -9.17910877e-01 -2.56832748e-01\n",
            "  -1.12128344e+00 -1.41177127e-01 -7.99490892e-01  8.18873008e-01\n",
            "  -6.26249053e-01 -7.51637707e-01  2.38440270e-01  3.81477565e-01\n",
            "  -7.21934014e-01]\n",
            " [-3.95709776e-01 -4.83615471e-01  2.13815109e+00 -2.56832748e-01\n",
            "   2.01830935e-01 -4.31764647e-01  8.56063288e-01 -8.15392013e-01\n",
            "  -8.56462535e-01 -1.31131055e+00  2.83943278e-01  2.47959259e-01\n",
            "   7.16187922e-01]\n",
            " [-1.91163736e-02 -4.83615471e-01  1.02832580e+00 -2.56832748e-01\n",
            "   1.93294713e-01  2.39690011e-01  2.14625630e-01 -4.16122002e-01\n",
            "   1.67588577e+00  1.56528750e+00  7.84476371e-01  4.10521786e-01\n",
            "   2.23472441e-01]]\n"
          ],
          "name": "stdout"
        }
      ]
    },
    {
      "metadata": {
        "id": "31Fpllvo0M9q",
        "colab_type": "code",
        "colab": {}
      },
      "cell_type": "code",
      "source": [
        "from keras import models\n",
        "from keras import layers\n",
        "\n",
        "def build_model():\n",
        "    model = models.Sequential()\n",
        "    model.add(layers.Dense(64, activation='relu',\n",
        "                           input_shape=(train_data.shape[1],)))\n",
        "    model.add(layers.Dense(64, activation='relu'))\n",
        "    model.add(layers.Dense(1))\n",
        "    model.compile(optimizer='rmsprop', loss='mse', metrics=['mae'])\n",
        "    return model\n"
      ],
      "execution_count": 0,
      "outputs": []
    },
    {
      "metadata": {
        "id": "cUw3Xh4b0ZN6",
        "colab_type": "code",
        "colab": {
          "base_uri": "https://localhost:8080/",
          "height": 87
        },
        "outputId": "58fd203f-a83c-484b-f845-1a2e36ce76ff"
      },
      "cell_type": "code",
      "source": [
        "import numpy as np\n",
        "\n",
        "k = 4\n",
        "num_val_samples = len(train_data) // k\n",
        "num_epochs = 100\n",
        "all_scores = []\n",
        "for i in range(k):\n",
        "    print('processing fold #', i)\n",
        "    val_data = train_data[i * num_val_samples: (i + 1) * num_val_samples]\n",
        "    val_targets = train_targets[i * num_val_samples: (i + 1) * num_val_samples]\n",
        "\n",
        "    partial_train_data = np.concatenate(\n",
        "        [train_data[:i * num_val_samples],\n",
        "         train_data[(i + 1) * num_val_samples:]],\n",
        "        axis=0)\n",
        "    partial_train_targets = np.concatenate(\n",
        "        [train_targets[:i * num_val_samples],\n",
        "         train_targets[(i + 1) * num_val_samples:]],\n",
        "        axis=0)\n",
        "\n",
        "    model = build_model()\n",
        "    model.fit(partial_train_data, partial_train_targets,\n",
        "              epochs=num_epochs, batch_size=1, verbose=0)\n",
        "    val_mse, val_mae = model.evaluate(val_data, val_targets, verbose=0)\n",
        "    all_scores.append(val_mae)\n"
      ],
      "execution_count": 7,
      "outputs": [
        {
          "output_type": "stream",
          "text": [
            "processing fold # 0\n",
            "processing fold # 1\n",
            "processing fold # 2\n",
            "processing fold # 3\n"
          ],
          "name": "stdout"
        }
      ]
    },
    {
      "metadata": {
        "id": "iTbrA1Mc1TWK",
        "colab_type": "code",
        "colab": {
          "base_uri": "https://localhost:8080/",
          "height": 35
        },
        "outputId": "57f9754f-f3ff-4634-b973-c1445df946a0"
      },
      "cell_type": "code",
      "source": [
        "all_scores\n",
        "#[2.588258957792037, 3.1289568449719116, 3.1856116051248984, 3.0763342615401386]\n"
      ],
      "execution_count": 8,
      "outputs": [
        {
          "output_type": "execute_result",
          "data": {
            "text/plain": [
              "[1.982215675977197, 2.2359203914604566, 2.90416681884539, 2.3097892055417053]"
            ]
          },
          "metadata": {
            "tags": []
          },
          "execution_count": 8
        }
      ]
    },
    {
      "metadata": {
        "id": "6G1wachj1aUN",
        "colab_type": "code",
        "colab": {
          "base_uri": "https://localhost:8080/",
          "height": 35
        },
        "outputId": "62e357dc-f738-4688-d537-fdc337a317d9"
      },
      "cell_type": "code",
      "source": [
        "np.mean(all_scores)\n",
        "#2.9947904173572462"
      ],
      "execution_count": 9,
      "outputs": [
        {
          "output_type": "execute_result",
          "data": {
            "text/plain": [
              "2.358023022956187"
            ]
          },
          "metadata": {
            "tags": []
          },
          "execution_count": 9
        }
      ]
    },
    {
      "metadata": {
        "id": "t7K799fL15fg",
        "colab_type": "code",
        "colab": {
          "base_uri": "https://localhost:8080/",
          "height": 87
        },
        "outputId": "439c86e2-b417-451a-9867-a3582c72a15e"
      },
      "cell_type": "code",
      "source": [
        "#try for 500 epochs and more monitoring\n",
        "\n",
        "num_epochs = 500\n",
        "all_mae_histories = []\n",
        "for i in range(k):\n",
        "    print('processing fold #', i)\n",
        "    val_data = train_data[i * num_val_samples: (i + 1) * num_val_samples]\n",
        "    val_targets = train_targets[i * num_val_samples: (i + 1) * num_val_samples]\n",
        "    partial_train_data = np.concatenate(\n",
        "        [train_data[:i * num_val_samples],\n",
        "         train_data[(i + 1) * num_val_samples:]],\n",
        "        axis=0)\n",
        "    partial_train_targets = np.concatenate(\n",
        "        [train_targets[:i * num_val_samples],\n",
        "         train_targets[(i + 1) * num_val_samples:]],\n",
        "        axis=0)\n",
        "\n",
        "    model = build_model()\n",
        "    history = model.fit(partial_train_data, partial_train_targets,\n",
        "                        validation_data=(val_data, val_targets),\n",
        "                        epochs=num_epochs, batch_size=1, verbose=0)\n",
        "    mae_history = history.history['val_mean_absolute_error']\n",
        "    all_mae_histories.append(mae_history)\n",
        "    "
      ],
      "execution_count": 10,
      "outputs": [
        {
          "output_type": "stream",
          "text": [
            "processing fold # 0\n",
            "processing fold # 1\n",
            "processing fold # 2\n",
            "processing fold # 3\n"
          ],
          "name": "stdout"
        }
      ]
    },
    {
      "metadata": {
        "id": "TEfWBnXk4qE8",
        "colab_type": "code",
        "colab": {
          "base_uri": "https://localhost:8080/",
          "height": 191
        },
        "outputId": "2860b89e-17cf-48aa-f118-7fb6eff71c11"
      },
      "cell_type": "code",
      "source": [
        "all_mae_histories[0][:10]"
      ],
      "execution_count": 13,
      "outputs": [
        {
          "output_type": "execute_result",
          "data": {
            "text/plain": [
              "[3.8384450308167106,\n",
              " 2.782022476196289,\n",
              " 2.597110993791335,\n",
              " 2.347466601003515,\n",
              " 2.4142047768772237,\n",
              " 2.4252394024688417,\n",
              " 2.274629791184227,\n",
              " 2.27718718689267,\n",
              " 2.1925509707762463,\n",
              " 2.346457028152919]"
            ]
          },
          "metadata": {
            "tags": []
          },
          "execution_count": 13
        }
      ]
    },
    {
      "metadata": {
        "id": "wTYbjGvM2d0m",
        "colab_type": "code",
        "colab": {}
      },
      "cell_type": "code",
      "source": [
        "average_mae_history = [np.mean([x[i] for x in all_mae_histories]) for i in range(num_epochs)]"
      ],
      "execution_count": 0,
      "outputs": []
    },
    {
      "metadata": {
        "id": "7HTHfEza2qY2",
        "colab_type": "code",
        "colab": {
          "base_uri": "https://localhost:8080/",
          "height": 361
        },
        "outputId": "76708736-37f4-49db-f7c8-505570dd1f08"
      },
      "cell_type": "code",
      "source": [
        "import matplotlib.pyplot as plt\n",
        "\n",
        "plt.plot(range(1, len(average_mae_history) + 1), average_mae_history)\n",
        "plt.xlabel('Epochs')\n",
        "plt.ylabel('Validation MAE')\n",
        "plt.show()"
      ],
      "execution_count": 15,
      "outputs": [
        {
          "output_type": "display_data",
          "data": {
            "image/png": "[encoded data removed]",
            "text/plain": [
              "<matplotlib.figure.Figure at 0x7ff8cbe06ba8>"
            ]
          },
          "metadata": {
            "tags": []
          }
        }
      ]
    },
    {
      "metadata": {
        "id": "8SjpN_kt2_Hj",
        "colab_type": "code",
        "colab": {
          "base_uri": "https://localhost:8080/",
          "height": 361
        },
        "outputId": "8d4f6d18-0269-4a5b-b13a-143cf3ea1160"
      },
      "cell_type": "code",
      "source": [
        "def smooth_curve(points, factor=0.9):\n",
        "  smoothed_points = []\n",
        "  for point in points:\n",
        "    if smoothed_points:\n",
        "      previous = smoothed_points[-1]\n",
        "      smoothed_points.append(previous * factor + point * (1 - factor))\n",
        "    else:\n",
        "      smoothed_points.append(point)\n",
        "  return smoothed_points\n",
        "\n",
        "smooth_mae_history = smooth_curve(average_mae_history[10:])\n",
        "\n",
        "plt.plot(range(1, len(smooth_mae_history) + 1), smooth_mae_history)\n",
        "plt.xlabel('Epochs')\n",
        "plt.ylabel('Validation MAE')\n",
        "plt.show()"
      ],
      "execution_count": 16,
      "outputs": [
        {
          "output_type": "display_data",
          "data": {
            "image/png": "[encoded data removed]",
            "text/plain": [
              "<matplotlib.figure.Figure at 0x7ff8cb698198>"
            ]
          },
          "metadata": {
            "tags": []
          }
        }
      ]
    },
    {
      "metadata": {
        "id": "msP6XONo3Wma",
        "colab_type": "code",
        "colab": {
          "base_uri": "https://localhost:8080/",
          "height": 52
        },
        "outputId": "8db3443d-cb42-4023-b9da-d2b1b963d545"
      },
      "cell_type": "code",
      "source": [
        "#now that know where to set epochs, go back and train on full training data.\n",
        "\n",
        "model = build_model()\n",
        "model.fit(train_data, train_targets,\n",
        "          epochs=80, batch_size=16, verbose=0)\n",
        "test_mse_score, test_mae_score = model.evaluate(test_data, test_targets)\n",
        "\n",
        "test_mae_score"
      ],
      "execution_count": 17,
      "outputs": [
        {
          "output_type": "stream",
          "text": [
            "102/102 [==============================] - 0s 1ms/step\n"
          ],
          "name": "stdout"
        },
        {
          "output_type": "execute_result",
          "data": {
            "text/plain": [
              "2.6805151771096623"
            ]
          },
          "metadata": {
            "tags": []
          },
          "execution_count": 17
        }
      ]
    }
  ]
}